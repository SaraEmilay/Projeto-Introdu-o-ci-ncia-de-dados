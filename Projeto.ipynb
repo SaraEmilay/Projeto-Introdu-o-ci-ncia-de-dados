{
  "cells": [
    {
      "cell_type": "markdown",
      "metadata": {
        "id": "wB1PgYKgcwiV"
      },
      "source": [
        "# Importação"
      ]
    },
    {
      "cell_type": "code",
      "execution_count": null,
      "metadata": {
        "colab": {
          "base_uri": "https://localhost:8080/"
        },
        "id": "xdcABiNNYzoO",
        "outputId": "fc8f3a35-2b39-4123-a7e1-df66e2ad3e9d"
      },
      "outputs": [
        {
          "name": "stdout",
          "output_type": "stream",
          "text": [
            "Drive already mounted at /content/drive; to attempt to forcibly remount, call drive.mount(\"/content/drive\", force_remount=True).\n"
          ]
        }
      ],
      "source": [
        "from google.colab import drive\n",
        "drive.mount('/content/drive')"
      ]
    },
    {
      "cell_type": "code",
      "execution_count": null,
      "metadata": {
        "id": "KD2kbspF8z4E"
      },
      "outputs": [],
      "source": [
        "import pandas as pd\n",
        "import numpy as np"
      ]
    },
    {
      "cell_type": "code",
      "execution_count": null,
      "metadata": {
        "colab": {
          "base_uri": "https://localhost:8080/",
          "height": 291
        },
        "id": "nN8NZtDE82fW",
        "outputId": "20ea6965-03fc-4b2f-db53-0140b7c7c9ee"
      },
      "outputs": [
        {
          "name": "stderr",
          "output_type": "stream",
          "text": [
            "<ipython-input-61-fdff86963402>:1: DtypeWarning: Columns (40,41,42,43,44,45,46,47,48,49,50,53,54,55,56,57,58,59,60,61,62,63,92) have mixed types. Specify dtype option on import or set low_memory=False.\n",
            "  df = pd.read_csv(\"/content/drive/MyDrive/Projeto De int a Ciencia de Dados/alunos.csv\", sep=\";\")\n"
          ]
        },
        {
          "data": {
            "application/vnd.google.colaboratory.intrinsic+json": {
              "type": "dataframe",
              "variable_name": "df"
            },
            "text/html": [
              "\n",
              "  <div id=\"df-5bfa4b2a-6dc3-483d-a992-43540c2b8d2b\" class=\"colab-df-container\">\n",
              "    <div>\n",
              "<style scoped>\n",
              "    .dataframe tbody tr th:only-of-type {\n",
              "        vertical-align: middle;\n",
              "    }\n",
              "\n",
              "    .dataframe tbody tr th {\n",
              "        vertical-align: top;\n",
              "    }\n",
              "\n",
              "    .dataframe thead th {\n",
              "        text-align: right;\n",
              "    }\n",
              "</style>\n",
              "<table border=\"1\" class=\"dataframe\">\n",
              "  <thead>\n",
              "    <tr style=\"text-align: right;\">\n",
              "      <th></th>\n",
              "      <th>NU_ANO_CENSO</th>\n",
              "      <th>ID_ALUNO</th>\n",
              "      <th>ID_MATRICULA</th>\n",
              "      <th>NU_MES</th>\n",
              "      <th>NU_ANO</th>\n",
              "      <th>NU_IDADE_REFERENCIA</th>\n",
              "      <th>NU_IDADE</th>\n",
              "      <th>TP_SEXO</th>\n",
              "      <th>TP_COR_RACA</th>\n",
              "      <th>TP_NACIONALIDADE</th>\n",
              "      <th>...</th>\n",
              "      <th>IN_MANT_ESCOLA_PRIVADA_EMP</th>\n",
              "      <th>IN_MANT_ESCOLA_PRIVADA_ONG</th>\n",
              "      <th>IN_MANT_ESCOLA_PRIVADA_OSCIP</th>\n",
              "      <th>IN_MANT_ESCOLA_PRIV_ONG_OSCIP</th>\n",
              "      <th>IN_MANT_ESCOLA_PRIVADA_SIND</th>\n",
              "      <th>IN_MANT_ESCOLA_PRIVADA_SIST_S</th>\n",
              "      <th>IN_MANT_ESCOLA_PRIVADA_S_FINS</th>\n",
              "      <th>TP_REGULAMENTACAO</th>\n",
              "      <th>TP_LOCALIZACAO_DIFERENCIADA</th>\n",
              "      <th>IN_EDUCACAO_INDIGENA</th>\n",
              "    </tr>\n",
              "  </thead>\n",
              "  <tbody>\n",
              "    <tr>\n",
              "      <th>0</th>\n",
              "      <td>2020</td>\n",
              "      <td>790269B39914035DE33BCB827C4F2D83</td>\n",
              "      <td>435039863</td>\n",
              "      <td>12</td>\n",
              "      <td>2009</td>\n",
              "      <td>10</td>\n",
              "      <td>11</td>\n",
              "      <td>2</td>\n",
              "      <td>3</td>\n",
              "      <td>1</td>\n",
              "      <td>...</td>\n",
              "      <td>1.0</td>\n",
              "      <td>0.0</td>\n",
              "      <td>0.0</td>\n",
              "      <td>0.0</td>\n",
              "      <td>0.0</td>\n",
              "      <td>0.0</td>\n",
              "      <td>0.0</td>\n",
              "      <td>1</td>\n",
              "      <td>0</td>\n",
              "      <td>0</td>\n",
              "    </tr>\n",
              "    <tr>\n",
              "      <th>1</th>\n",
              "      <td>2020</td>\n",
              "      <td>311363D9AB845EB53D7D6F12FE657CF9</td>\n",
              "      <td>351780516</td>\n",
              "      <td>6</td>\n",
              "      <td>2008</td>\n",
              "      <td>11</td>\n",
              "      <td>12</td>\n",
              "      <td>2</td>\n",
              "      <td>1</td>\n",
              "      <td>1</td>\n",
              "      <td>...</td>\n",
              "      <td>1.0</td>\n",
              "      <td>0.0</td>\n",
              "      <td>0.0</td>\n",
              "      <td>0.0</td>\n",
              "      <td>0.0</td>\n",
              "      <td>0.0</td>\n",
              "      <td>0.0</td>\n",
              "      <td>1</td>\n",
              "      <td>0</td>\n",
              "      <td>0</td>\n",
              "    </tr>\n",
              "    <tr>\n",
              "      <th>2</th>\n",
              "      <td>2020</td>\n",
              "      <td>0CFD8C53003C50D16BC9DE8E1CAFF658</td>\n",
              "      <td>419928618</td>\n",
              "      <td>4</td>\n",
              "      <td>2008</td>\n",
              "      <td>12</td>\n",
              "      <td>12</td>\n",
              "      <td>2</td>\n",
              "      <td>1</td>\n",
              "      <td>1</td>\n",
              "      <td>...</td>\n",
              "      <td>1.0</td>\n",
              "      <td>0.0</td>\n",
              "      <td>0.0</td>\n",
              "      <td>0.0</td>\n",
              "      <td>0.0</td>\n",
              "      <td>0.0</td>\n",
              "      <td>1.0</td>\n",
              "      <td>1</td>\n",
              "      <td>0</td>\n",
              "      <td>0</td>\n",
              "    </tr>\n",
              "    <tr>\n",
              "      <th>3</th>\n",
              "      <td>2020</td>\n",
              "      <td>D295E28AA9D03AC4586E93B822E86C93</td>\n",
              "      <td>422248877</td>\n",
              "      <td>6</td>\n",
              "      <td>2017</td>\n",
              "      <td>2</td>\n",
              "      <td>3</td>\n",
              "      <td>1</td>\n",
              "      <td>3</td>\n",
              "      <td>1</td>\n",
              "      <td>...</td>\n",
              "      <td>1.0</td>\n",
              "      <td>0.0</td>\n",
              "      <td>0.0</td>\n",
              "      <td>0.0</td>\n",
              "      <td>0.0</td>\n",
              "      <td>0.0</td>\n",
              "      <td>0.0</td>\n",
              "      <td>1</td>\n",
              "      <td>0</td>\n",
              "      <td>0</td>\n",
              "    </tr>\n",
              "    <tr>\n",
              "      <th>4</th>\n",
              "      <td>2020</td>\n",
              "      <td>44066D73C8A75DD9611F8272BE80AC74</td>\n",
              "      <td>404705028</td>\n",
              "      <td>5</td>\n",
              "      <td>2013</td>\n",
              "      <td>7</td>\n",
              "      <td>7</td>\n",
              "      <td>1</td>\n",
              "      <td>1</td>\n",
              "      <td>1</td>\n",
              "      <td>...</td>\n",
              "      <td>1.0</td>\n",
              "      <td>0.0</td>\n",
              "      <td>0.0</td>\n",
              "      <td>0.0</td>\n",
              "      <td>0.0</td>\n",
              "      <td>0.0</td>\n",
              "      <td>0.0</td>\n",
              "      <td>1</td>\n",
              "      <td>0</td>\n",
              "      <td>0</td>\n",
              "    </tr>\n",
              "  </tbody>\n",
              "</table>\n",
              "<p>5 rows × 103 columns</p>\n",
              "</div>\n",
              "    <div class=\"colab-df-buttons\">\n",
              "\n",
              "  <div class=\"colab-df-container\">\n",
              "    <button class=\"colab-df-convert\" onclick=\"convertToInteractive('df-5bfa4b2a-6dc3-483d-a992-43540c2b8d2b')\"\n",
              "            title=\"Convert this dataframe to an interactive table.\"\n",
              "            style=\"display:none;\">\n",
              "\n",
              "  <svg xmlns=\"http://www.w3.org/2000/svg\" height=\"24px\" viewBox=\"0 -960 960 960\">\n",
              "    <path d=\"M120-120v-720h720v720H120Zm60-500h600v-160H180v160Zm220 220h160v-160H400v160Zm0 220h160v-160H400v160ZM180-400h160v-160H180v160Zm440 0h160v-160H620v160ZM180-180h160v-160H180v160Zm440 0h160v-160H620v160Z\"/>\n",
              "  </svg>\n",
              "    </button>\n",
              "\n",
              "  <style>\n",
              "    .colab-df-container {\n",
              "      display:flex;\n",
              "      gap: 12px;\n",
              "    }\n",
              "\n",
              "    .colab-df-convert {\n",
              "      background-color: #E8F0FE;\n",
              "      border: none;\n",
              "      border-radius: 50%;\n",
              "      cursor: pointer;\n",
              "      display: none;\n",
              "      fill: #1967D2;\n",
              "      height: 32px;\n",
              "      padding: 0 0 0 0;\n",
              "      width: 32px;\n",
              "    }\n",
              "\n",
              "    .colab-df-convert:hover {\n",
              "      background-color: #E2EBFA;\n",
              "      box-shadow: 0px 1px 2px rgba(60, 64, 67, 0.3), 0px 1px 3px 1px rgba(60, 64, 67, 0.15);\n",
              "      fill: #174EA6;\n",
              "    }\n",
              "\n",
              "    .colab-df-buttons div {\n",
              "      margin-bottom: 4px;\n",
              "    }\n",
              "\n",
              "    [theme=dark] .colab-df-convert {\n",
              "      background-color: #3B4455;\n",
              "      fill: #D2E3FC;\n",
              "    }\n",
              "\n",
              "    [theme=dark] .colab-df-convert:hover {\n",
              "      background-color: #434B5C;\n",
              "      box-shadow: 0px 1px 3px 1px rgba(0, 0, 0, 0.15);\n",
              "      filter: drop-shadow(0px 1px 2px rgba(0, 0, 0, 0.3));\n",
              "      fill: #FFFFFF;\n",
              "    }\n",
              "  </style>\n",
              "\n",
              "    <script>\n",
              "      const buttonEl =\n",
              "        document.querySelector('#df-5bfa4b2a-6dc3-483d-a992-43540c2b8d2b button.colab-df-convert');\n",
              "      buttonEl.style.display =\n",
              "        google.colab.kernel.accessAllowed ? 'block' : 'none';\n",
              "\n",
              "      async function convertToInteractive(key) {\n",
              "        const element = document.querySelector('#df-5bfa4b2a-6dc3-483d-a992-43540c2b8d2b');\n",
              "        const dataTable =\n",
              "          await google.colab.kernel.invokeFunction('convertToInteractive',\n",
              "                                                    [key], {});\n",
              "        if (!dataTable) return;\n",
              "\n",
              "        const docLinkHtml = 'Like what you see? Visit the ' +\n",
              "          '<a target=\"_blank\" href=https://colab.research.google.com/notebooks/data_table.ipynb>data table notebook</a>'\n",
              "          + ' to learn more about interactive tables.';\n",
              "        element.innerHTML = '';\n",
              "        dataTable['output_type'] = 'display_data';\n",
              "        await google.colab.output.renderOutput(dataTable, element);\n",
              "        const docLink = document.createElement('div');\n",
              "        docLink.innerHTML = docLinkHtml;\n",
              "        element.appendChild(docLink);\n",
              "      }\n",
              "    </script>\n",
              "  </div>\n",
              "\n",
              "\n",
              "<div id=\"df-0f86c7ec-113a-490d-a159-f4cf746412d5\">\n",
              "  <button class=\"colab-df-quickchart\" onclick=\"quickchart('df-0f86c7ec-113a-490d-a159-f4cf746412d5')\"\n",
              "            title=\"Suggest charts\"\n",
              "            style=\"display:none;\">\n",
              "\n",
              "<svg xmlns=\"http://www.w3.org/2000/svg\" height=\"24px\"viewBox=\"0 0 24 24\"\n",
              "     width=\"24px\">\n",
              "    <g>\n",
              "        <path d=\"M19 3H5c-1.1 0-2 .9-2 2v14c0 1.1.9 2 2 2h14c1.1 0 2-.9 2-2V5c0-1.1-.9-2-2-2zM9 17H7v-7h2v7zm4 0h-2V7h2v10zm4 0h-2v-4h2v4z\"/>\n",
              "    </g>\n",
              "</svg>\n",
              "  </button>\n",
              "\n",
              "<style>\n",
              "  .colab-df-quickchart {\n",
              "      --bg-color: #E8F0FE;\n",
              "      --fill-color: #1967D2;\n",
              "      --hover-bg-color: #E2EBFA;\n",
              "      --hover-fill-color: #174EA6;\n",
              "      --disabled-fill-color: #AAA;\n",
              "      --disabled-bg-color: #DDD;\n",
              "  }\n",
              "\n",
              "  [theme=dark] .colab-df-quickchart {\n",
              "      --bg-color: #3B4455;\n",
              "      --fill-color: #D2E3FC;\n",
              "      --hover-bg-color: #434B5C;\n",
              "      --hover-fill-color: #FFFFFF;\n",
              "      --disabled-bg-color: #3B4455;\n",
              "      --disabled-fill-color: #666;\n",
              "  }\n",
              "\n",
              "  .colab-df-quickchart {\n",
              "    background-color: var(--bg-color);\n",
              "    border: none;\n",
              "    border-radius: 50%;\n",
              "    cursor: pointer;\n",
              "    display: none;\n",
              "    fill: var(--fill-color);\n",
              "    height: 32px;\n",
              "    padding: 0;\n",
              "    width: 32px;\n",
              "  }\n",
              "\n",
              "  .colab-df-quickchart:hover {\n",
              "    background-color: var(--hover-bg-color);\n",
              "    box-shadow: 0 1px 2px rgba(60, 64, 67, 0.3), 0 1px 3px 1px rgba(60, 64, 67, 0.15);\n",
              "    fill: var(--button-hover-fill-color);\n",
              "  }\n",
              "\n",
              "  .colab-df-quickchart-complete:disabled,\n",
              "  .colab-df-quickchart-complete:disabled:hover {\n",
              "    background-color: var(--disabled-bg-color);\n",
              "    fill: var(--disabled-fill-color);\n",
              "    box-shadow: none;\n",
              "  }\n",
              "\n",
              "  .colab-df-spinner {\n",
              "    border: 2px solid var(--fill-color);\n",
              "    border-color: transparent;\n",
              "    border-bottom-color: var(--fill-color);\n",
              "    animation:\n",
              "      spin 1s steps(1) infinite;\n",
              "  }\n",
              "\n",
              "  @keyframes spin {\n",
              "    0% {\n",
              "      border-color: transparent;\n",
              "      border-bottom-color: var(--fill-color);\n",
              "      border-left-color: var(--fill-color);\n",
              "    }\n",
              "    20% {\n",
              "      border-color: transparent;\n",
              "      border-left-color: var(--fill-color);\n",
              "      border-top-color: var(--fill-color);\n",
              "    }\n",
              "    30% {\n",
              "      border-color: transparent;\n",
              "      border-left-color: var(--fill-color);\n",
              "      border-top-color: var(--fill-color);\n",
              "      border-right-color: var(--fill-color);\n",
              "    }\n",
              "    40% {\n",
              "      border-color: transparent;\n",
              "      border-right-color: var(--fill-color);\n",
              "      border-top-color: var(--fill-color);\n",
              "    }\n",
              "    60% {\n",
              "      border-color: transparent;\n",
              "      border-right-color: var(--fill-color);\n",
              "    }\n",
              "    80% {\n",
              "      border-color: transparent;\n",
              "      border-right-color: var(--fill-color);\n",
              "      border-bottom-color: var(--fill-color);\n",
              "    }\n",
              "    90% {\n",
              "      border-color: transparent;\n",
              "      border-bottom-color: var(--fill-color);\n",
              "    }\n",
              "  }\n",
              "</style>\n",
              "\n",
              "  <script>\n",
              "    async function quickchart(key) {\n",
              "      const quickchartButtonEl =\n",
              "        document.querySelector('#' + key + ' button');\n",
              "      quickchartButtonEl.disabled = true;  // To prevent multiple clicks.\n",
              "      quickchartButtonEl.classList.add('colab-df-spinner');\n",
              "      try {\n",
              "        const charts = await google.colab.kernel.invokeFunction(\n",
              "            'suggestCharts', [key], {});\n",
              "      } catch (error) {\n",
              "        console.error('Error during call to suggestCharts:', error);\n",
              "      }\n",
              "      quickchartButtonEl.classList.remove('colab-df-spinner');\n",
              "      quickchartButtonEl.classList.add('colab-df-quickchart-complete');\n",
              "    }\n",
              "    (() => {\n",
              "      let quickchartButtonEl =\n",
              "        document.querySelector('#df-0f86c7ec-113a-490d-a159-f4cf746412d5 button');\n",
              "      quickchartButtonEl.style.display =\n",
              "        google.colab.kernel.accessAllowed ? 'block' : 'none';\n",
              "    })();\n",
              "  </script>\n",
              "</div>\n",
              "\n",
              "    </div>\n",
              "  </div>\n"
            ],
            "text/plain": [
              "   NU_ANO_CENSO                          ID_ALUNO  ID_MATRICULA  NU_MES  \\\n",
              "0          2020  790269B39914035DE33BCB827C4F2D83     435039863      12   \n",
              "1          2020  311363D9AB845EB53D7D6F12FE657CF9     351780516       6   \n",
              "2          2020  0CFD8C53003C50D16BC9DE8E1CAFF658     419928618       4   \n",
              "3          2020  D295E28AA9D03AC4586E93B822E86C93     422248877       6   \n",
              "4          2020  44066D73C8A75DD9611F8272BE80AC74     404705028       5   \n",
              "\n",
              "   NU_ANO  NU_IDADE_REFERENCIA  NU_IDADE  TP_SEXO  TP_COR_RACA  \\\n",
              "0    2009                   10        11        2            3   \n",
              "1    2008                   11        12        2            1   \n",
              "2    2008                   12        12        2            1   \n",
              "3    2017                    2         3        1            3   \n",
              "4    2013                    7         7        1            1   \n",
              "\n",
              "   TP_NACIONALIDADE  ...  IN_MANT_ESCOLA_PRIVADA_EMP  \\\n",
              "0                 1  ...                         1.0   \n",
              "1                 1  ...                         1.0   \n",
              "2                 1  ...                         1.0   \n",
              "3                 1  ...                         1.0   \n",
              "4                 1  ...                         1.0   \n",
              "\n",
              "   IN_MANT_ESCOLA_PRIVADA_ONG  IN_MANT_ESCOLA_PRIVADA_OSCIP  \\\n",
              "0                         0.0                           0.0   \n",
              "1                         0.0                           0.0   \n",
              "2                         0.0                           0.0   \n",
              "3                         0.0                           0.0   \n",
              "4                         0.0                           0.0   \n",
              "\n",
              "   IN_MANT_ESCOLA_PRIV_ONG_OSCIP  IN_MANT_ESCOLA_PRIVADA_SIND  \\\n",
              "0                            0.0                          0.0   \n",
              "1                            0.0                          0.0   \n",
              "2                            0.0                          0.0   \n",
              "3                            0.0                          0.0   \n",
              "4                            0.0                          0.0   \n",
              "\n",
              "   IN_MANT_ESCOLA_PRIVADA_SIST_S  IN_MANT_ESCOLA_PRIVADA_S_FINS  \\\n",
              "0                            0.0                            0.0   \n",
              "1                            0.0                            0.0   \n",
              "2                            0.0                            1.0   \n",
              "3                            0.0                            0.0   \n",
              "4                            0.0                            0.0   \n",
              "\n",
              "   TP_REGULAMENTACAO  TP_LOCALIZACAO_DIFERENCIADA  IN_EDUCACAO_INDIGENA  \n",
              "0                  1                            0                     0  \n",
              "1                  1                            0                     0  \n",
              "2                  1                            0                     0  \n",
              "3                  1                            0                     0  \n",
              "4                  1                            0                     0  \n",
              "\n",
              "[5 rows x 103 columns]"
            ]
          },
          "execution_count": 61,
          "metadata": {},
          "output_type": "execute_result"
        }
      ],
      "source": [
        "df = pd.read_csv(\"/content/drive/MyDrive/Projeto De int a Ciencia de Dados/alunos.csv\", sep=\";\")\n",
        "df.head()\n"
      ]
    },
    {
      "cell_type": "code",
      "execution_count": null,
      "metadata": {
        "colab": {
          "base_uri": "https://localhost:8080/"
        },
        "id": "46VaWPK3C7tP",
        "outputId": "f36a9319-d68b-4c78-d44a-3a9c5ea74b58"
      },
      "outputs": [
        {
          "name": "stdout",
          "output_type": "stream",
          "text": [
            "['CO_UF_NASC', 'CO_MUNICIPIO_NASC', 'CO_UF_END', 'CO_MUNICIPIO_END', 'TP_LOCAL_RESID_DIFERENCIADA', 'IN_BAIXA_VISAO', 'IN_CEGUEIRA', 'IN_DEF_AUDITIVA', 'IN_DEF_FISICA', 'IN_DEF_INTELECTUAL', 'IN_SURDEZ', 'IN_SURDOCEGUEIRA', 'IN_DEF_MULTIPLA', 'IN_AUTISMO', 'IN_SUPERDOTACAO', 'IN_RECURSO_LEDOR', 'IN_RECURSO_TRANSCRICAO', 'IN_RECURSO_INTERPRETE', 'IN_RECURSO_LIBRAS', 'IN_RECURSO_LABIAL', 'IN_RECURSO_AMPLIADA_18', 'IN_RECURSO_AMPLIADA_24', 'IN_RECURSO_CD_AUDIO', 'IN_RECURSO_PROVA_PORTUGUES', 'IN_RECURSO_VIDEO_LIBRAS', 'IN_RECURSO_BRAILLE', 'IN_RECURSO_NENHUM', 'IN_AEE_LIBRAS', 'IN_AEE_LINGUA_PORTUGUESA', 'IN_AEE_INFORMATICA_ACESSIVEL', 'IN_AEE_BRAILLE', 'IN_AEE_CAA', 'IN_AEE_SOROBAN', 'IN_AEE_VIDA_AUTONOMA', 'IN_AEE_OPTICOS_NAO_OPTICOS', 'IN_AEE_ENRIQ_CURRICULAR', 'IN_AEE_DESEN_COGNITIVO', 'IN_AEE_MOBILIDADE', 'IN_TRANSPORTE_PUBLICO', 'TP_RESPONSAVEL_TRANSPORTE', 'IN_TRANSP_BICICLETA', 'IN_TRANSP_MICRO_ONIBUS', 'IN_TRANSP_ONIBUS', 'IN_TRANSP_TR_ANIMAL', 'IN_TRANSP_VANS_KOMBI', 'IN_TRANSP_OUTRO_VEICULO', 'IN_TRANSP_EMBAR_ATE5', 'IN_TRANSP_EMBAR_5A15', 'IN_TRANSP_EMBAR_15A35', 'IN_TRANSP_EMBAR_35', 'TP_ETAPA_ENSINO', 'IN_ESPECIAL_EXCLUSIVA', 'IN_REGULAR', 'IN_EJA', 'IN_PROFISSIONALIZANTE', 'CO_CURSO_EDUC_PROFISSIONAL', 'NU_DURACAO_TURMA', 'NU_DUR_ATIV_COMP_MESMA_REDE', 'NU_DUR_ATIV_COMP_OUTRAS_REDES', 'NU_DUR_AEE_MESMA_REDE', 'NU_DUR_AEE_OUTRAS_REDES', 'NU_DIAS_ATIVIDADE', 'TP_UNIFICADA', 'TP_TIPO_LOCAL_TURMA', 'TP_CATEGORIA_ESCOLA_PRIVADA', 'IN_CONVENIADA_PP', 'TP_CONVENIO_PODER_PUBLICO', 'IN_MANT_ESCOLA_PRIVADA_EMP', 'IN_MANT_ESCOLA_PRIVADA_ONG', 'IN_MANT_ESCOLA_PRIVADA_OSCIP', 'IN_MANT_ESCOLA_PRIV_ONG_OSCIP', 'IN_MANT_ESCOLA_PRIVADA_SIND', 'IN_MANT_ESCOLA_PRIVADA_SIST_S', 'IN_MANT_ESCOLA_PRIVADA_S_FINS']\n"
          ]
        }
      ],
      "source": [
        "missing_values = df.isna().sum()\n",
        "\n",
        "# Filtrar apenas as colunas que têm dados ausentes\n",
        "columns_with_nan = missing_values[missing_values > 0]\n",
        "\n",
        "columns_with_nan_names = columns_with_nan.index.tolist()\n",
        "\n",
        "print(columns_with_nan_names)"
      ]
    },
    {
      "cell_type": "code",
      "execution_count": null,
      "metadata": {
        "id": "EjDxlCIEFxXH"
      },
      "outputs": [],
      "source": [
        "in_autismo = df['IN_AUTISMO']"
      ]
    },
    {
      "cell_type": "code",
      "execution_count": null,
      "metadata": {
        "colab": {
          "base_uri": "https://localhost:8080/",
          "height": 362
        },
        "id": "t8CPY8BVBoLy",
        "outputId": "0f63bf68-31a8-4671-be1f-5f8f9d469e44"
      },
      "outputs": [
        {
          "data": {
            "application/vnd.google.colaboratory.intrinsic+json": {
              "type": "dataframe",
              "variable_name": "df"
            },
            "text/html": [
              "\n",
              "  <div id=\"df-2ce970af-bca8-4f8b-8c93-c626b5694913\" class=\"colab-df-container\">\n",
              "    <div>\n",
              "<style scoped>\n",
              "    .dataframe tbody tr th:only-of-type {\n",
              "        vertical-align: middle;\n",
              "    }\n",
              "\n",
              "    .dataframe tbody tr th {\n",
              "        vertical-align: top;\n",
              "    }\n",
              "\n",
              "    .dataframe thead th {\n",
              "        text-align: right;\n",
              "    }\n",
              "</style>\n",
              "<table border=\"1\" class=\"dataframe\">\n",
              "  <thead>\n",
              "    <tr style=\"text-align: right;\">\n",
              "      <th></th>\n",
              "      <th>ID_ALUNO</th>\n",
              "      <th>ID_MATRICULA</th>\n",
              "      <th>NU_MES</th>\n",
              "      <th>NU_ANO</th>\n",
              "      <th>NU_IDADE</th>\n",
              "      <th>TP_SEXO</th>\n",
              "      <th>TP_COR_RACA</th>\n",
              "      <th>TP_DEPENDENCIA</th>\n",
              "      <th>TP_LOCALIZACAO</th>\n",
              "      <th>IN_NECESSIDADE_ESPECIAL</th>\n",
              "    </tr>\n",
              "  </thead>\n",
              "  <tbody>\n",
              "    <tr>\n",
              "      <th>0</th>\n",
              "      <td>790269B39914035DE33BCB827C4F2D83</td>\n",
              "      <td>435039863</td>\n",
              "      <td>12</td>\n",
              "      <td>2009</td>\n",
              "      <td>11</td>\n",
              "      <td>2</td>\n",
              "      <td>3</td>\n",
              "      <td>4</td>\n",
              "      <td>1</td>\n",
              "      <td>0</td>\n",
              "    </tr>\n",
              "    <tr>\n",
              "      <th>1</th>\n",
              "      <td>311363D9AB845EB53D7D6F12FE657CF9</td>\n",
              "      <td>351780516</td>\n",
              "      <td>6</td>\n",
              "      <td>2008</td>\n",
              "      <td>12</td>\n",
              "      <td>2</td>\n",
              "      <td>1</td>\n",
              "      <td>4</td>\n",
              "      <td>1</td>\n",
              "      <td>0</td>\n",
              "    </tr>\n",
              "    <tr>\n",
              "      <th>2</th>\n",
              "      <td>0CFD8C53003C50D16BC9DE8E1CAFF658</td>\n",
              "      <td>419928618</td>\n",
              "      <td>4</td>\n",
              "      <td>2008</td>\n",
              "      <td>12</td>\n",
              "      <td>2</td>\n",
              "      <td>1</td>\n",
              "      <td>4</td>\n",
              "      <td>1</td>\n",
              "      <td>0</td>\n",
              "    </tr>\n",
              "    <tr>\n",
              "      <th>3</th>\n",
              "      <td>D295E28AA9D03AC4586E93B822E86C93</td>\n",
              "      <td>422248877</td>\n",
              "      <td>6</td>\n",
              "      <td>2017</td>\n",
              "      <td>3</td>\n",
              "      <td>1</td>\n",
              "      <td>3</td>\n",
              "      <td>4</td>\n",
              "      <td>1</td>\n",
              "      <td>0</td>\n",
              "    </tr>\n",
              "    <tr>\n",
              "      <th>4</th>\n",
              "      <td>44066D73C8A75DD9611F8272BE80AC74</td>\n",
              "      <td>404705028</td>\n",
              "      <td>5</td>\n",
              "      <td>2013</td>\n",
              "      <td>7</td>\n",
              "      <td>1</td>\n",
              "      <td>1</td>\n",
              "      <td>4</td>\n",
              "      <td>1</td>\n",
              "      <td>0</td>\n",
              "    </tr>\n",
              "    <tr>\n",
              "      <th>5</th>\n",
              "      <td>935E98FA576A932F5676025D915A7161</td>\n",
              "      <td>388952482</td>\n",
              "      <td>5</td>\n",
              "      <td>2012</td>\n",
              "      <td>8</td>\n",
              "      <td>1</td>\n",
              "      <td>1</td>\n",
              "      <td>4</td>\n",
              "      <td>1</td>\n",
              "      <td>0</td>\n",
              "    </tr>\n",
              "    <tr>\n",
              "      <th>6</th>\n",
              "      <td>6C31AF9237DEDC7B37985740860D7D24</td>\n",
              "      <td>449372690</td>\n",
              "      <td>7</td>\n",
              "      <td>2008</td>\n",
              "      <td>12</td>\n",
              "      <td>1</td>\n",
              "      <td>0</td>\n",
              "      <td>4</td>\n",
              "      <td>1</td>\n",
              "      <td>0</td>\n",
              "    </tr>\n",
              "    <tr>\n",
              "      <th>7</th>\n",
              "      <td>0DBAA386BE1FC7D3AC7040F4E3B74AEB</td>\n",
              "      <td>449962344</td>\n",
              "      <td>8</td>\n",
              "      <td>2012</td>\n",
              "      <td>8</td>\n",
              "      <td>2</td>\n",
              "      <td>1</td>\n",
              "      <td>4</td>\n",
              "      <td>1</td>\n",
              "      <td>0</td>\n",
              "    </tr>\n",
              "    <tr>\n",
              "      <th>8</th>\n",
              "      <td>82ADC449D86A5F239F0F63433654EEDF</td>\n",
              "      <td>399480624</td>\n",
              "      <td>7</td>\n",
              "      <td>2014</td>\n",
              "      <td>6</td>\n",
              "      <td>2</td>\n",
              "      <td>0</td>\n",
              "      <td>4</td>\n",
              "      <td>1</td>\n",
              "      <td>0</td>\n",
              "    </tr>\n",
              "    <tr>\n",
              "      <th>9</th>\n",
              "      <td>4D7092A037EFA63CCDCDD33713C91491</td>\n",
              "      <td>407934879</td>\n",
              "      <td>2</td>\n",
              "      <td>2015</td>\n",
              "      <td>5</td>\n",
              "      <td>2</td>\n",
              "      <td>1</td>\n",
              "      <td>4</td>\n",
              "      <td>1</td>\n",
              "      <td>0</td>\n",
              "    </tr>\n",
              "  </tbody>\n",
              "</table>\n",
              "</div>\n",
              "    <div class=\"colab-df-buttons\">\n",
              "\n",
              "  <div class=\"colab-df-container\">\n",
              "    <button class=\"colab-df-convert\" onclick=\"convertToInteractive('df-2ce970af-bca8-4f8b-8c93-c626b5694913')\"\n",
              "            title=\"Convert this dataframe to an interactive table.\"\n",
              "            style=\"display:none;\">\n",
              "\n",
              "  <svg xmlns=\"http://www.w3.org/2000/svg\" height=\"24px\" viewBox=\"0 -960 960 960\">\n",
              "    <path d=\"M120-120v-720h720v720H120Zm60-500h600v-160H180v160Zm220 220h160v-160H400v160Zm0 220h160v-160H400v160ZM180-400h160v-160H180v160Zm440 0h160v-160H620v160ZM180-180h160v-160H180v160Zm440 0h160v-160H620v160Z\"/>\n",
              "  </svg>\n",
              "    </button>\n",
              "\n",
              "  <style>\n",
              "    .colab-df-container {\n",
              "      display:flex;\n",
              "      gap: 12px;\n",
              "    }\n",
              "\n",
              "    .colab-df-convert {\n",
              "      background-color: #E8F0FE;\n",
              "      border: none;\n",
              "      border-radius: 50%;\n",
              "      cursor: pointer;\n",
              "      display: none;\n",
              "      fill: #1967D2;\n",
              "      height: 32px;\n",
              "      padding: 0 0 0 0;\n",
              "      width: 32px;\n",
              "    }\n",
              "\n",
              "    .colab-df-convert:hover {\n",
              "      background-color: #E2EBFA;\n",
              "      box-shadow: 0px 1px 2px rgba(60, 64, 67, 0.3), 0px 1px 3px 1px rgba(60, 64, 67, 0.15);\n",
              "      fill: #174EA6;\n",
              "    }\n",
              "\n",
              "    .colab-df-buttons div {\n",
              "      margin-bottom: 4px;\n",
              "    }\n",
              "\n",
              "    [theme=dark] .colab-df-convert {\n",
              "      background-color: #3B4455;\n",
              "      fill: #D2E3FC;\n",
              "    }\n",
              "\n",
              "    [theme=dark] .colab-df-convert:hover {\n",
              "      background-color: #434B5C;\n",
              "      box-shadow: 0px 1px 3px 1px rgba(0, 0, 0, 0.15);\n",
              "      filter: drop-shadow(0px 1px 2px rgba(0, 0, 0, 0.3));\n",
              "      fill: #FFFFFF;\n",
              "    }\n",
              "  </style>\n",
              "\n",
              "    <script>\n",
              "      const buttonEl =\n",
              "        document.querySelector('#df-2ce970af-bca8-4f8b-8c93-c626b5694913 button.colab-df-convert');\n",
              "      buttonEl.style.display =\n",
              "        google.colab.kernel.accessAllowed ? 'block' : 'none';\n",
              "\n",
              "      async function convertToInteractive(key) {\n",
              "        const element = document.querySelector('#df-2ce970af-bca8-4f8b-8c93-c626b5694913');\n",
              "        const dataTable =\n",
              "          await google.colab.kernel.invokeFunction('convertToInteractive',\n",
              "                                                    [key], {});\n",
              "        if (!dataTable) return;\n",
              "\n",
              "        const docLinkHtml = 'Like what you see? Visit the ' +\n",
              "          '<a target=\"_blank\" href=https://colab.research.google.com/notebooks/data_table.ipynb>data table notebook</a>'\n",
              "          + ' to learn more about interactive tables.';\n",
              "        element.innerHTML = '';\n",
              "        dataTable['output_type'] = 'display_data';\n",
              "        await google.colab.output.renderOutput(dataTable, element);\n",
              "        const docLink = document.createElement('div');\n",
              "        docLink.innerHTML = docLinkHtml;\n",
              "        element.appendChild(docLink);\n",
              "      }\n",
              "    </script>\n",
              "  </div>\n",
              "\n",
              "\n",
              "<div id=\"df-e90c701d-6381-48db-8b7e-1ffc5ef571d7\">\n",
              "  <button class=\"colab-df-quickchart\" onclick=\"quickchart('df-e90c701d-6381-48db-8b7e-1ffc5ef571d7')\"\n",
              "            title=\"Suggest charts\"\n",
              "            style=\"display:none;\">\n",
              "\n",
              "<svg xmlns=\"http://www.w3.org/2000/svg\" height=\"24px\"viewBox=\"0 0 24 24\"\n",
              "     width=\"24px\">\n",
              "    <g>\n",
              "        <path d=\"M19 3H5c-1.1 0-2 .9-2 2v14c0 1.1.9 2 2 2h14c1.1 0 2-.9 2-2V5c0-1.1-.9-2-2-2zM9 17H7v-7h2v7zm4 0h-2V7h2v10zm4 0h-2v-4h2v4z\"/>\n",
              "    </g>\n",
              "</svg>\n",
              "  </button>\n",
              "\n",
              "<style>\n",
              "  .colab-df-quickchart {\n",
              "      --bg-color: #E8F0FE;\n",
              "      --fill-color: #1967D2;\n",
              "      --hover-bg-color: #E2EBFA;\n",
              "      --hover-fill-color: #174EA6;\n",
              "      --disabled-fill-color: #AAA;\n",
              "      --disabled-bg-color: #DDD;\n",
              "  }\n",
              "\n",
              "  [theme=dark] .colab-df-quickchart {\n",
              "      --bg-color: #3B4455;\n",
              "      --fill-color: #D2E3FC;\n",
              "      --hover-bg-color: #434B5C;\n",
              "      --hover-fill-color: #FFFFFF;\n",
              "      --disabled-bg-color: #3B4455;\n",
              "      --disabled-fill-color: #666;\n",
              "  }\n",
              "\n",
              "  .colab-df-quickchart {\n",
              "    background-color: var(--bg-color);\n",
              "    border: none;\n",
              "    border-radius: 50%;\n",
              "    cursor: pointer;\n",
              "    display: none;\n",
              "    fill: var(--fill-color);\n",
              "    height: 32px;\n",
              "    padding: 0;\n",
              "    width: 32px;\n",
              "  }\n",
              "\n",
              "  .colab-df-quickchart:hover {\n",
              "    background-color: var(--hover-bg-color);\n",
              "    box-shadow: 0 1px 2px rgba(60, 64, 67, 0.3), 0 1px 3px 1px rgba(60, 64, 67, 0.15);\n",
              "    fill: var(--button-hover-fill-color);\n",
              "  }\n",
              "\n",
              "  .colab-df-quickchart-complete:disabled,\n",
              "  .colab-df-quickchart-complete:disabled:hover {\n",
              "    background-color: var(--disabled-bg-color);\n",
              "    fill: var(--disabled-fill-color);\n",
              "    box-shadow: none;\n",
              "  }\n",
              "\n",
              "  .colab-df-spinner {\n",
              "    border: 2px solid var(--fill-color);\n",
              "    border-color: transparent;\n",
              "    border-bottom-color: var(--fill-color);\n",
              "    animation:\n",
              "      spin 1s steps(1) infinite;\n",
              "  }\n",
              "\n",
              "  @keyframes spin {\n",
              "    0% {\n",
              "      border-color: transparent;\n",
              "      border-bottom-color: var(--fill-color);\n",
              "      border-left-color: var(--fill-color);\n",
              "    }\n",
              "    20% {\n",
              "      border-color: transparent;\n",
              "      border-left-color: var(--fill-color);\n",
              "      border-top-color: var(--fill-color);\n",
              "    }\n",
              "    30% {\n",
              "      border-color: transparent;\n",
              "      border-left-color: var(--fill-color);\n",
              "      border-top-color: var(--fill-color);\n",
              "      border-right-color: var(--fill-color);\n",
              "    }\n",
              "    40% {\n",
              "      border-color: transparent;\n",
              "      border-right-color: var(--fill-color);\n",
              "      border-top-color: var(--fill-color);\n",
              "    }\n",
              "    60% {\n",
              "      border-color: transparent;\n",
              "      border-right-color: var(--fill-color);\n",
              "    }\n",
              "    80% {\n",
              "      border-color: transparent;\n",
              "      border-right-color: var(--fill-color);\n",
              "      border-bottom-color: var(--fill-color);\n",
              "    }\n",
              "    90% {\n",
              "      border-color: transparent;\n",
              "      border-bottom-color: var(--fill-color);\n",
              "    }\n",
              "  }\n",
              "</style>\n",
              "\n",
              "  <script>\n",
              "    async function quickchart(key) {\n",
              "      const quickchartButtonEl =\n",
              "        document.querySelector('#' + key + ' button');\n",
              "      quickchartButtonEl.disabled = true;  // To prevent multiple clicks.\n",
              "      quickchartButtonEl.classList.add('colab-df-spinner');\n",
              "      try {\n",
              "        const charts = await google.colab.kernel.invokeFunction(\n",
              "            'suggestCharts', [key], {});\n",
              "      } catch (error) {\n",
              "        console.error('Error during call to suggestCharts:', error);\n",
              "      }\n",
              "      quickchartButtonEl.classList.remove('colab-df-spinner');\n",
              "      quickchartButtonEl.classList.add('colab-df-quickchart-complete');\n",
              "    }\n",
              "    (() => {\n",
              "      let quickchartButtonEl =\n",
              "        document.querySelector('#df-e90c701d-6381-48db-8b7e-1ffc5ef571d7 button');\n",
              "      quickchartButtonEl.style.display =\n",
              "        google.colab.kernel.accessAllowed ? 'block' : 'none';\n",
              "    })();\n",
              "  </script>\n",
              "</div>\n",
              "\n",
              "    </div>\n",
              "  </div>\n"
            ],
            "text/plain": [
              "                           ID_ALUNO  ID_MATRICULA  NU_MES  NU_ANO  NU_IDADE  \\\n",
              "0  790269B39914035DE33BCB827C4F2D83     435039863      12    2009        11   \n",
              "1  311363D9AB845EB53D7D6F12FE657CF9     351780516       6    2008        12   \n",
              "2  0CFD8C53003C50D16BC9DE8E1CAFF658     419928618       4    2008        12   \n",
              "3  D295E28AA9D03AC4586E93B822E86C93     422248877       6    2017         3   \n",
              "4  44066D73C8A75DD9611F8272BE80AC74     404705028       5    2013         7   \n",
              "5  935E98FA576A932F5676025D915A7161     388952482       5    2012         8   \n",
              "6  6C31AF9237DEDC7B37985740860D7D24     449372690       7    2008        12   \n",
              "7  0DBAA386BE1FC7D3AC7040F4E3B74AEB     449962344       8    2012         8   \n",
              "8  82ADC449D86A5F239F0F63433654EEDF     399480624       7    2014         6   \n",
              "9  4D7092A037EFA63CCDCDD33713C91491     407934879       2    2015         5   \n",
              "\n",
              "   TP_SEXO  TP_COR_RACA  TP_DEPENDENCIA  TP_LOCALIZACAO  \\\n",
              "0        2            3               4               1   \n",
              "1        2            1               4               1   \n",
              "2        2            1               4               1   \n",
              "3        1            3               4               1   \n",
              "4        1            1               4               1   \n",
              "5        1            1               4               1   \n",
              "6        1            0               4               1   \n",
              "7        2            1               4               1   \n",
              "8        2            0               4               1   \n",
              "9        2            1               4               1   \n",
              "\n",
              "   IN_NECESSIDADE_ESPECIAL  \n",
              "0                        0  \n",
              "1                        0  \n",
              "2                        0  \n",
              "3                        0  \n",
              "4                        0  \n",
              "5                        0  \n",
              "6                        0  \n",
              "7                        0  \n",
              "8                        0  \n",
              "9                        0  "
            ]
          },
          "execution_count": 64,
          "metadata": {},
          "output_type": "execute_result"
        }
      ],
      "source": [
        "\n",
        "\n",
        "colunas_mantidas = [\n",
        "    'ID_ALUNO', 'ID_MATRICULA', 'NU_MES', 'NU_ANO',\n",
        "    'NU_IDADE', 'TP_SEXO', 'TP_COR_RACA', 'TP_DEPENDENCIA','TP_LOCALIZACAO', 'IN_NECESSIDADE_ESPECIAL']\n",
        "\n",
        "df = df[colunas_mantidas]\n",
        "\n",
        "\n",
        "df.head(10)\n"
      ]
    },
    {
      "cell_type": "markdown",
      "metadata": {
        "id": "GSRx4lFDT9Kh"
      },
      "source": [
        "## Analise em pessoas que possuem necessidades especiais"
      ]
    },
    {
      "cell_type": "code",
      "execution_count": null,
      "metadata": {
        "colab": {
          "base_uri": "https://localhost:8080/"
        },
        "id": "rthpYffoUAcC",
        "outputId": "6fe260f3-7020-4e1f-e23b-71d329631105"
      },
      "outputs": [
        {
          "data": {
            "text/plain": [
              "IN_NECESSIDADE_ESPECIAL\n",
              "0    360436\n",
              "1     10623\n",
              "Name: count, dtype: int64"
            ]
          },
          "execution_count": 65,
          "metadata": {},
          "output_type": "execute_result"
        }
      ],
      "source": [
        "df['IN_NECESSIDADE_ESPECIAL'].value_counts()"
      ]
    },
    {
      "cell_type": "markdown",
      "metadata": {
        "id": "SXq3V4eG-bva"
      },
      "source": [
        "media de pessoas com necessidades especiais"
      ]
    },
    {
      "cell_type": "code",
      "execution_count": null,
      "metadata": {
        "colab": {
          "base_uri": "https://localhost:8080/"
        },
        "id": "TkJwOyFVUC8Q",
        "outputId": "cb76a9c1-e400-4399-fa22-8cfd8c6d8fe5"
      },
      "outputs": [
        {
          "data": {
            "text/plain": [
              "13.914054410241928"
            ]
          },
          "execution_count": 66,
          "metadata": {},
          "output_type": "execute_result"
        }
      ],
      "source": [
        "pessoas_com_necessidades_especiais = df[df['IN_NECESSIDADE_ESPECIAL'] == 1]\n",
        "media_idade_necessidades_especiais = pessoas_com_necessidades_especiais['NU_IDADE'].mean()\n",
        "media_idade_necessidades_especiais"
      ]
    },
    {
      "cell_type": "markdown",
      "metadata": {
        "id": "Qn7AmSC6zqDz"
      },
      "source": [
        "identficadores das colunas"
      ]
    },
    {
      "cell_type": "code",
      "execution_count": null,
      "metadata": {
        "id": "skzKmuEHWDm0"
      },
      "outputs": [],
      "source": [
        "#df['TP_DEPENDENCIA']\n",
        "  #  1: 0,  # Federal -> Público\n",
        "  #  2: 0,  # Estadual -> Público\n",
        "  #  3: 0,  # Municipal -> Público\n",
        "  #  4: 1   # Privada -> Privado\n",
        "\n",
        "#df['TP_COR_RACA]\n",
        "  # 0: Nao declarada\n",
        "  # 1: Branca\n",
        "  # 2: Preta\n",
        "  # 3: Parda\n",
        "  # 4: Amarela\n",
        "  # 5: Indigena\n",
        "\n"
      ]
    },
    {
      "cell_type": "code",
      "execution_count": null,
      "metadata": {
        "colab": {
          "base_uri": "https://localhost:8080/"
        },
        "id": "lAbHAuYWnQgz",
        "outputId": "9ee5325c-1d65-46e4-93e5-5b90a376b869"
      },
      "outputs": [
        {
          "name": "stdout",
          "output_type": "stream",
          "text": [
            "TP_DEPENDENCIA\n",
            "2    142721\n",
            "4    129034\n",
            "3     94035\n",
            "1      5269\n",
            "Name: count, dtype: int64\n"
          ]
        }
      ],
      "source": [
        "contagem = df['TP_DEPENDENCIA'].value_counts()\n",
        "\n",
        "print(contagem)"
      ]
    },
    {
      "cell_type": "code",
      "execution_count": null,
      "metadata": {
        "colab": {
          "base_uri": "https://localhost:8080/"
        },
        "id": "6PSRvKO6VKHw",
        "outputId": "9cb65ce5-c607-4148-bc8d-e87e160b4596"
      },
      "outputs": [
        {
          "data": {
            "text/plain": [
              "TP_DEPENDENCIA\n",
              "3    6707\n",
              "2    2487\n",
              "4    1408\n",
              "1      21\n",
              "Name: count, dtype: int64"
            ]
          },
          "execution_count": 69,
          "metadata": {},
          "output_type": "execute_result"
        }
      ],
      "source": [
        "# checando se a maioria dessas pessoas estão em escolas públicas ou privadas\n",
        "\n",
        "pessoas_com_necessidades_especiais['TP_DEPENDENCIA'].value_counts()\n"
      ]
    },
    {
      "cell_type": "code",
      "execution_count": null,
      "metadata": {
        "colab": {
          "base_uri": "https://localhost:8080/"
        },
        "id": "SVWruAKLXEOB",
        "outputId": "b14264ee-ed74-4a8f-fb3b-994ec9c83dc6"
      },
      "outputs": [
        {
          "name": "stdout",
          "output_type": "stream",
          "text": [
            "Total de colunas com pessoas menores de 18 anos: 284277\n",
            "Total de pessoas com necessidades especiais entre os menores de 18 anos: 8537\n",
            "Relação entre o número de pessoas menores de 18 anos e o número de pessoas com necessidades especiais: 3.00%\n"
          ]
        }
      ],
      "source": [
        "df_menores = df[df['NU_IDADE'] < 18]\n",
        "\n",
        "total_necessidades_especiais = df_menores['IN_NECESSIDADE_ESPECIAL'].sum()\n",
        "total_pessoas_menores_18 = len(df_menores)\n",
        "relacao = (total_necessidades_especiais / total_pessoas_menores_18) * 100\n",
        "\n",
        "# Imprimindo os resultados\n",
        "print(f\"Total de colunas com pessoas menores de 18 anos: {total_pessoas_menores_18}\")\n",
        "print(f\"Total de pessoas com necessidades especiais entre os menores de 18 anos: {total_necessidades_especiais}\")\n",
        "print(f\"Relação entre o número de pessoas menores de 18 anos e o número de pessoas com necessidades especiais: {relacao:.2f}%\")"
      ]
    },
    {
      "cell_type": "code",
      "execution_count": null,
      "metadata": {
        "colab": {
          "base_uri": "https://localhost:8080/"
        },
        "id": "GJyrd9HcCv-a",
        "outputId": "58305ce4-c8ba-45de-952a-72c01babcee1"
      },
      "outputs": [
        {
          "data": {
            "text/plain": [
              "ID_ALUNO                   0\n",
              "ID_MATRICULA               0\n",
              "NU_MES                     0\n",
              "NU_ANO                     0\n",
              "NU_IDADE                   0\n",
              "TP_SEXO                    0\n",
              "TP_COR_RACA                0\n",
              "TP_DEPENDENCIA             0\n",
              "TP_LOCALIZACAO             0\n",
              "IN_NECESSIDADE_ESPECIAL    0\n",
              "dtype: int64"
            ]
          },
          "execution_count": 71,
          "metadata": {},
          "output_type": "execute_result"
        }
      ],
      "source": [
        "df.isna().sum()"
      ]
    },
    {
      "cell_type": "markdown",
      "metadata": {
        "id": "fnevtohfW8Vp"
      },
      "source": [
        "# Análise dos Dados"
      ]
    },
    {
      "cell_type": "code",
      "execution_count": null,
      "metadata": {
        "colab": {
          "background_save": true
        },
        "id": "nuHWLeQ-HloB",
        "outputId": "40b81008-d4f3-45f7-c1ee-6ce7f300ebf9"
      },
      "outputs": [
        {
          "name": "stdout",
          "output_type": "stream",
          "text": [
            "ID_ALUNO                     object\n",
            "ID_MATRICULA                  int64\n",
            "NU_MES                        int64\n",
            "NU_ANO                      float64\n",
            "NU_IDADE                    float64\n",
            "TP_SEXO                       int64\n",
            "TP_COR_RACA                 float64\n",
            "TP_DEPENDENCIA                int64\n",
            "TP_LOCALIZACAO                int64\n",
            "IN_NECESSIDADE_ESPECIAL       int64\n",
            "NU_IDADE_d                 category\n",
            "NU_ANO.log                  float64\n",
            "NU_IDADE.log                float64\n",
            "dtype: object\n"
          ]
        }
      ],
      "source": [
        "print(df.dtypes)"
      ]
    },
    {
      "cell_type": "code",
      "execution_count": null,
      "metadata": {
        "colab": {
          "background_save": true
        },
        "id": "7ocbx7mmYqC_",
        "outputId": "d4e2a048-ba59-4724-9577-62465bc09944"
      },
      "outputs": [
        {
          "data": {
            "text/plain": [
              "count    37106.000000\n",
              "mean         1.627528\n",
              "std          1.117242\n",
              "min          0.000000\n",
              "25%          0.952381\n",
              "50%          1.428571\n",
              "75%          1.904762\n",
              "max         10.000000\n",
              "Name: NU_IDADE, dtype: float64"
            ]
          },
          "execution_count": 118,
          "metadata": {},
          "output_type": "execute_result"
        }
      ],
      "source": [
        "df['NU_IDADE'].describe()"
      ]
    },
    {
      "cell_type": "markdown",
      "metadata": {
        "id": "nBLCXCTn-nB8"
      },
      "source": [
        "verificando valores ausentes"
      ]
    },
    {
      "cell_type": "code",
      "execution_count": null,
      "metadata": {
        "colab": {
          "background_save": true
        },
        "id": "h8WN7P_4pGhq",
        "outputId": "abf4684e-ca38-4b89-a874-672d91d379dd"
      },
      "outputs": [
        {
          "name": "stdout",
          "output_type": "stream",
          "text": [
            "0\n"
          ]
        }
      ],
      "source": [
        "num_nans = df['TP_COR_RACA'].isna().sum()\n",
        "print(num_nans)"
      ]
    },
    {
      "cell_type": "code",
      "execution_count": null,
      "metadata": {
        "colab": {
          "background_save": true
        },
        "id": "wWz07TbQ0oeW",
        "outputId": "3b0e0476-6485-4cb0-a8e1-3d4f30376b6f"
      },
      "outputs": [
        {
          "data": {
            "image/png": "[encoded data removed]",
            "text/plain": [
              "<Figure size 640x480 with 1 Axes>"
            ]
          },
          "metadata": {},
          "output_type": "display_data"
        }
      ],
      "source": [
        "import matplotlib.pyplot as plt\n",
        "\n",
        "contagem = df['NU_IDADE'].value_counts()\n",
        "idades_unicas = df['NU_IDADE'].unique()\n",
        "\n",
        "idade_minima = df['NU_IDADE'].min()\n",
        "idade_maxima = df['NU_IDADE'].max()\n",
        "\n",
        "idades_possiveis = np.arange(idade_minima, idade_maxima + 1)\n",
        "\n",
        "plt.bar(idades_possiveis, contagem.reindex(idades_possiveis, fill_value=0), color='skyblue')\n",
        "plt.xlabel('Idade')\n",
        "plt.ylabel('Quantidade de pessoas')\n",
        "plt.xticks(np.arange(idade_minima, idade_maxima+1, 5))\n",
        "plt.title('Distribuição de idades')\n",
        "plt.show()\n"
      ]
    },
    {
      "cell_type": "markdown",
      "metadata": {
        "id": "3s1V_KAH7ZrN"
      },
      "source": [
        "com esse gráfico acima podemos observar que a maioria significativa tem idade entre 15 e 20 anos, podendo, assim, 'prever' as idades mais interessantes para a análise, visto que elas tem a maior frequência"
      ]
    },
    {
      "cell_type": "code",
      "execution_count": null,
      "metadata": {
        "colab": {
          "background_save": true
        },
        "id": "Nb_0X77t2D1P"
      },
      "outputs": [],
      "source": [
        "import seaborn as sns"
      ]
    },
    {
      "cell_type": "code",
      "execution_count": null,
      "metadata": {
        "id": "1qKjLw9kUhqc"
      },
      "outputs": [],
      "source": [
        "\n",
        "\n",
        "\n",
        "cross_tab = pd.crosstab(df['TP_DEPENDENCIA'], df['TP_COR_RACA'])\n",
        "\n",
        "\n",
        "cross_tab.plot(kind='bar', stacked=True)\n",
        "plt.xlabel('Tipo de Dependência')\n",
        "plt.ylabel('Contagem')\n",
        "plt.title('Distribuição do Tipo de Dependência por Raça')\n",
        "plt.xticks(rotation=0)\n",
        "plt.legend(title='Raça', loc='upper right')\n",
        "plt.show()\n"
      ]
    },
    {
      "cell_type": "markdown",
      "metadata": {
        "id": "lLRVFg6e-N6Y"
      },
      "source": [
        "com esses dados podemos observar uma concentração maior de brancos em orgãos privados"
      ]
    },
    {
      "cell_type": "code",
      "execution_count": null,
      "metadata": {
        "id": "j-pMPKsIZcms"
      },
      "outputs": [],
      "source": [
        "\n",
        "np.random.seed(10)\n",
        "data = np.random.normal(100, 20, 200)\n",
        "\n",
        "fig = plt.figure(figsize =(10, 7))\n",
        "\n",
        "plt.boxplot(df['NU_IDADE'])\n",
        "\n",
        "plt.show()"
      ]
    },
    {
      "cell_type": "markdown",
      "metadata": {
        "id": "gT5DH67V-qzj"
      },
      "source": [
        "como podemos ver, tivemos uma maior quantidade de outliers, definindo a necessidade de tratamento desses dados, confirmando que a media esta entre 15 e 20"
      ]
    },
    {
      "cell_type": "code",
      "execution_count": null,
      "metadata": {
        "id": "TXF0yWVweO4J"
      },
      "outputs": [],
      "source": [
        "num_nan = df.isna().sum()\n",
        "print(num_nan)"
      ]
    },
    {
      "cell_type": "markdown",
      "metadata": {
        "id": "_LWdjiap1ZQV"
      },
      "source": [
        "# teste de Hipótese"
      ]
    },
    {
      "cell_type": "markdown",
      "metadata": {
        "id": "g6_7lWg9_k_L"
      },
      "source": [
        "deve ser rodada d forma separada do resto do codigo!!"
      ]
    },
    {
      "cell_type": "markdown",
      "metadata": {
        "id": "QCzjPZWF-IAZ"
      },
      "source": [
        "Existe uma diferença significativa na idade média entre alunos com e sem necessidade especial?\n",
        "\n",
        "Hipótese Nula(H0): Não há diferença significativa na idade média entre alunos com e sem necessidade especial.\n",
        "\n",
        "Hipótese Alternativa(H1): Existe uma diferença significativa na idade média entre alunos com e sem necessidade especial."
      ]
    },
    {
      "cell_type": "markdown",
      "metadata": {
        "id": "B-LRQwyH3IbG"
      },
      "source": [
        "verificando se existe uma relação gaussiana"
      ]
    },
    {
      "cell_type": "code",
      "execution_count": null,
      "metadata": {
        "id": "d83G5D_N_HAf"
      },
      "outputs": [],
      "source": [
        "df.columns"
      ]
    },
    {
      "cell_type": "code",
      "execution_count": null,
      "metadata": {
        "id": "dQqLMytF2r4T"
      },
      "outputs": [],
      "source": [
        "df['bp_difference'] = df['NU_IDADE'] - df['IN_NECESSIDADE_ESPECIAL']\n",
        "\n",
        "\n",
        "df['bp_difference'].plot(kind='hist')"
      ]
    },
    {
      "cell_type": "code",
      "execution_count": null,
      "metadata": {
        "id": "gCY5UuAd6WQu"
      },
      "outputs": [],
      "source": [
        "np.random.seed(42)\n",
        "in_necessidade_especial = np.random.randint(0, 2, 100000)  # Dados binários\n",
        "nu_idade = np.random.randint(0, 100, 100000)  # Dados de idade\n",
        "\n",
        "# Criando o DataFrame\n",
        "df = pd.DataFrame({'IN_NECESSIDADE_ESPECIAL': in_necessidade_especial, 'NU_IDADE': nu_idade})\n",
        "\n",
        "# Calculando a diferença\n",
        "df['bp_difference'] = df['NU_IDADE'] - df['IN_NECESSIDADE_ESPECIAL']\n",
        "\n",
        "# Plotando o histograma\n",
        "plt.figure(figsize=(10, 6))\n",
        "df['bp_difference'].plot(kind='hist', bins=50)\n",
        "plt.xlabel('bp_difference')\n",
        "plt.ylabel('Frequency')\n",
        "plt.title('Histogram of bp_difference')\n",
        "plt.grid(True)\n",
        "plt.show()\n",
        "\n",
        "# Plotando o gráfico Q-Q\n",
        "plt.figure(figsize=(10, 6))\n",
        "stats.probplot(df['bp_difference'], dist=\"norm\", plot=plt)\n",
        "plt.title('Q-Q Plot of bp_difference')\n",
        "plt.grid(True)\n",
        "plt.show()"
      ]
    },
    {
      "cell_type": "markdown",
      "metadata": {
        "id": "1_09JD9PAwNL"
      },
      "source": [
        "aqui fizemos em relação à diferença entre os valroes das colunas, demonstrando que não segue uma gaussiana"
      ]
    },
    {
      "cell_type": "code",
      "execution_count": null,
      "metadata": {
        "id": "o2_cm66M7F57"
      },
      "outputs": [],
      "source": [
        "np.random.seed(42)\n",
        "in_necessidade_especial = np.random.randint(0, 2, 100000)  # Dados binários\n",
        "nu_idade = np.random.randint(0, 100, 100000)  # Dados de idade\n",
        "\n",
        "# Criando o DataFrame\n",
        "df = pd.DataFrame({'IN_NECESSIDADE_ESPECIAL': in_necessidade_especial, 'NU_IDADE': nu_idade})\n",
        "\n",
        "# Função para realizar testes de normalidade, plotar gráfico Q-Q e histograma\n",
        "def normality_test_and_plots(data, column_name):\n",
        "    # Teste de Shapiro-Wilk\n",
        "    shapiro_test = stats.shapiro(data)\n",
        "\n",
        "    # Teste de Anderson-Darling\n",
        "    anderson_test = stats.anderson(data)\n",
        "\n",
        "    # Teste de Kolmogorov-Smirnov\n",
        "    ks_test = stats.kstest(data, 'norm', args=(data.mean(), data.std()))\n",
        "\n",
        "    # Resultados dos testes\n",
        "    print(f\"Resultados dos testes de normalidade para {column_name}:\")\n",
        "    print(f\"Shapiro-Wilk: Estatística={shapiro_test.statistic}, p-valor={shapiro_test.pvalue}\")\n",
        "    print(f\"Anderson-Darling: Estatística={anderson_test.statistic}, Valores críticos={anderson_test.critical_values}\")\n",
        "    print(f\"Kolmogorov-Smirnov: Estatística={ks_test.statistic}, p-valor={ks_test.pvalue}\")\n",
        "\n",
        "    # Plotando histograma\n",
        "    plt.figure(figsize=(10, 6))\n",
        "    data.plot(kind='hist', bins=50)\n",
        "    plt.xlabel(column_name)\n",
        "    plt.ylabel('Frequency')\n",
        "    plt.title(f'Histogram of {column_name}')\n",
        "    plt.grid(True)\n",
        "    plt.show()\n",
        "\n",
        "    # Plotando gráfico Q-Q\n",
        "    plt.figure(figsize=(10, 6))\n",
        "    stats.probplot(data, dist=\"norm\", plot=plt)\n",
        "    plt.title(f'Q-Q Plot of {column_name}')\n",
        "    plt.grid(True)\n",
        "    plt.show()\n",
        "\n",
        "# Testando e plotando para IN_NECESSIDADE_ESPECIAL\n",
        "normality_test_and_plots(df['IN_NECESSIDADE_ESPECIAL'], 'IN_NECESSIDADE_ESPECIAL')\n",
        "\n",
        "# Testando e plotando para NU_IDADE\n",
        "normality_test_and_plots(df['NU_IDADE'], 'NU_IDADE')"
      ]
    },
    {
      "cell_type": "markdown",
      "metadata": {
        "id": "B2O46dP-BEvL"
      },
      "source": [
        "aqui plotamos varios dados para avaliar a questao de não serem parametricos"
      ]
    },
    {
      "cell_type": "code",
      "execution_count": null,
      "metadata": {
        "id": "z4P8NE8D1dKE"
      },
      "outputs": [],
      "source": [
        "from scipy.stats import mannwhitneyu\n",
        "\n",
        "# Filtrando os dados por necessidade especial\n",
        "idade_neces = df[df['IN_NECESSIDADE_ESPECIAL'] == 1]['NU_IDADE']\n",
        "idade_no_neces = df[df['IN_NECESSIDADE_ESPECIAL'] == 0]['NU_IDADE']\n",
        "\n",
        "# Realizando o teste t de Student\n",
        "u_stat_neces, p_val_neces = mannwhitneyu(idade_neces, idade_no_neces, alternative='two-sided')\n",
        "\n",
        "print('u-stat',u_stat_neces)\n",
        "print('p-value', p_val_neces)\n"
      ]
    },
    {
      "cell_type": "markdown",
      "metadata": {
        "id": "J5c2rIzJBajq"
      },
      "source": [
        "Um p-valor tão baixo indica que há uma diferença altamente significativa entre as idades dos alunos com e sem necessidade especial."
      ]
    },
    {
      "cell_type": "markdown",
      "metadata": {
        "id": "M0ulWZ78Bkbs"
      },
      "source": [
        "Descritiva dos dados"
      ]
    },
    {
      "cell_type": "code",
      "execution_count": null,
      "metadata": {
        "id": "J7CcHBQrBlqw"
      },
      "outputs": [],
      "source": [
        "median_age_neces = idade_neces.median()\n",
        "median_age_no_neces = idade_no_neces.median()\n",
        "\n",
        "mean_age_neces = idade_neces.mean()\n",
        "mean_age_no_neces = idade_no_neces.mean()\n",
        "\n",
        "\n",
        "print('Mediana da idade de pessoas com necessidades especiais', median_age_neces)\n",
        "print('Mediana da idade de pessoas sem necessidades especiais', median_age_no_neces)\n",
        "print('Media da idade de pessoas com necessidades especiais', mean_age_neces)\n",
        "print('Media da idade de pessoas com necessidades especiais', mean_age_no_neces)\n",
        "\n"
      ]
    },
    {
      "cell_type": "code",
      "execution_count": null,
      "metadata": {
        "id": "Me8QR4CeCHsS"
      },
      "outputs": [],
      "source": [
        "import matplotlib.pyplot as plt\n",
        "\n",
        "# Criando o boxplot\n",
        "plt.figure(figsize=(10, 6))\n",
        "plt.boxplot([idade_neces, idade_no_neces], labels=['Necessidade Especial', 'Sem Necessidade Especial'])\n",
        "plt.title('Distribuição das Idades dos Alunos')\n",
        "plt.ylabel('Idade')\n",
        "plt.grid(True)\n",
        "plt.show()\n"
      ]
    },
    {
      "cell_type": "markdown",
      "metadata": {
        "id": "7SuhO0yUBOt4"
      },
      "source": [
        "aqui podemos ver que a distribuição entre idades quando se relaciona com as necessidades especiais não é diferente"
      ]
    },
    {
      "cell_type": "markdown",
      "metadata": {
        "id": "IBaV0GT5gxJ4"
      },
      "source": [
        "#tratamento de dados ausentes"
      ]
    },
    {
      "cell_type": "code",
      "execution_count": null,
      "metadata": {
        "colab": {
          "base_uri": "https://localhost:8080/"
        },
        "id": "3dzHUJb_81UO",
        "outputId": "edabcd16-9ca8-452c-b823-f75ff38a0522"
      },
      "outputs": [
        {
          "data": {
            "text/plain": [
              "Index(['ID_ALUNO', 'ID_MATRICULA', 'NU_MES', 'NU_ANO', 'NU_IDADE', 'TP_SEXO',\n",
              "       'TP_COR_RACA', 'TP_DEPENDENCIA', 'TP_LOCALIZACAO',\n",
              "       'IN_NECESSIDADE_ESPECIAL'],\n",
              "      dtype='object')"
            ]
          },
          "execution_count": 80,
          "metadata": {},
          "output_type": "execute_result"
        }
      ],
      "source": [
        "df.columns"
      ]
    },
    {
      "cell_type": "code",
      "execution_count": null,
      "metadata": {
        "id": "gW4YwwK2Yy7X"
      },
      "outputs": [],
      "source": [
        "df['TP_COR_RACA'].replace(0, np.nan, inplace=True)"
      ]
    },
    {
      "cell_type": "code",
      "execution_count": null,
      "metadata": {
        "colab": {
          "base_uri": "https://localhost:8080/"
        },
        "id": "G6F563zNY7gj",
        "outputId": "2a2b2cf2-bc75-4741-eb0f-67d956fb76d8"
      },
      "outputs": [
        {
          "name": "stdout",
          "output_type": "stream",
          "text": [
            "124990\n"
          ]
        }
      ],
      "source": [
        "print(df['TP_COR_RACA'].isna().sum())\n"
      ]
    },
    {
      "cell_type": "code",
      "execution_count": null,
      "metadata": {
        "colab": {
          "base_uri": "https://localhost:8080/"
        },
        "id": "22pl5c_mk9mm",
        "outputId": "fc1c45f5-5065-4276-ab19-1d337416e9c9"
      },
      "outputs": [
        {
          "name": "stdout",
          "output_type": "stream",
          "text": [
            "ID_ALUNO                        0\n",
            "ID_MATRICULA                    0\n",
            "NU_MES                          0\n",
            "NU_ANO                          0\n",
            "NU_IDADE                        0\n",
            "TP_SEXO                         0\n",
            "TP_COR_RACA                124990\n",
            "TP_DEPENDENCIA                  0\n",
            "TP_LOCALIZACAO                  0\n",
            "IN_NECESSIDADE_ESPECIAL         0\n",
            "dtype: int64\n"
          ]
        }
      ],
      "source": [
        "nan_count = df.isna().sum()\n",
        "print(nan_count)"
      ]
    },
    {
      "cell_type": "code",
      "execution_count": null,
      "metadata": {
        "colab": {
          "base_uri": "https://localhost:8080/"
        },
        "id": "7iapfFTL9L_9",
        "outputId": "221d6780-2589-43b8-fa7b-c67ea4ed2ee5"
      },
      "outputs": [
        {
          "data": {
            "text/plain": [
              "Index(['ID_ALUNO', 'ID_MATRICULA', 'NU_MES', 'NU_ANO', 'NU_IDADE', 'TP_SEXO',\n",
              "       'TP_COR_RACA', 'TP_DEPENDENCIA', 'TP_LOCALIZACAO',\n",
              "       'IN_NECESSIDADE_ESPECIAL'],\n",
              "      dtype='object')"
            ]
          },
          "execution_count": 84,
          "metadata": {},
          "output_type": "execute_result"
        }
      ],
      "source": [
        "df.columns"
      ]
    },
    {
      "cell_type": "code",
      "execution_count": null,
      "metadata": {
        "id": "OweDbByR9iw7"
      },
      "outputs": [],
      "source": [
        "df = df.sample(frac=0.1, random_state=42)  # Usa 10% dos dados para testar\n"
      ]
    },
    {
      "cell_type": "code",
      "execution_count": null,
      "metadata": {
        "colab": {
          "base_uri": "https://localhost:8080/"
        },
        "id": "r9WZWbkbAibB",
        "outputId": "53eae3b7-b3cc-4835-b7b0-7aad51ea01c1"
      },
      "outputs": [
        {
          "name": "stdout",
          "output_type": "stream",
          "text": [
            "ID_ALUNO                       0\n",
            "ID_MATRICULA                   0\n",
            "NU_MES                         0\n",
            "NU_ANO                         0\n",
            "NU_IDADE                       0\n",
            "TP_SEXO                        0\n",
            "TP_COR_RACA                12574\n",
            "TP_DEPENDENCIA                 0\n",
            "TP_LOCALIZACAO                 0\n",
            "IN_NECESSIDADE_ESPECIAL        0\n",
            "dtype: int64\n"
          ]
        }
      ],
      "source": [
        "print(df.isna().sum())"
      ]
    },
    {
      "cell_type": "markdown",
      "metadata": {
        "id": "UiBWiouQhT62"
      },
      "source": [
        "# Normalização"
      ]
    },
    {
      "cell_type": "markdown",
      "metadata": {
        "id": "MfL1tgM90-L6"
      },
      "source": [
        " teste de Shapiro-Wilk para verificar a normalidade das colunas selecionadas"
      ]
    },
    {
      "cell_type": "code",
      "execution_count": null,
      "metadata": {
        "colab": {
          "base_uri": "https://localhost:8080/"
        },
        "id": "3E1PNiE5hWAX",
        "outputId": "b8054fc8-8738-4824-be7e-bcd7aaf6324d"
      },
      "outputs": [
        {
          "name": "stdout",
          "output_type": "stream",
          "text": [
            "     NU_ANO  NU_IDADE  TP_COR_RACA  TP_DEPENDENCIA\n",
            "0  0.831481  0.831414     0.671694        0.798562\n",
            "1  0.000000  0.000000     0.000000        0.000000\n"
          ]
        },
        {
          "name": "stderr",
          "output_type": "stream",
          "text": [
            "/usr/local/lib/python3.10/dist-packages/scipy/stats/_morestats.py:1882: UserWarning: p-value may not be accurate for N > 5000.\n",
            "  warnings.warn(\"p-value may not be accurate for N > 5000.\")\n"
          ]
        }
      ],
      "source": [
        "from scipy.stats import shapiro\n",
        "\n",
        "colunas = [ 'NU_ANO', 'NU_IDADE', 'TP_COR_RACA', 'TP_DEPENDENCIA', ]\n",
        "\n",
        "resultados = df[colunas].apply(lambda coluna: shapiro(coluna.dropna()), axis=0)\n",
        "\n",
        "print(resultados)\n"
      ]
    },
    {
      "cell_type": "markdown",
      "metadata": {
        "id": "3QJR2x9Ykcnv"
      },
      "source": [
        "vamos ver o grafico de densidade para saber se os dados seguem uma gaussiana"
      ]
    },
    {
      "cell_type": "code",
      "execution_count": null,
      "metadata": {
        "colab": {
          "base_uri": "https://localhost:8080/"
        },
        "id": "Zq0BsyW_h0VM",
        "outputId": "32f00075-2586-43f2-82df-db60b5226747"
      },
      "outputs": [
        {
          "name": "stderr",
          "output_type": "stream",
          "text": [
            "<ipython-input-88-4977d59d1dd7>:7: FutureWarning: \n",
            "\n",
            "`shade` is now deprecated in favor of `fill`; setting `fill=True`.\n",
            "This will become an error in seaborn v0.14.0; please update your code.\n",
            "\n",
            "  sns.kdeplot(df[coluna], shade=True)\n",
            "<ipython-input-88-4977d59d1dd7>:7: FutureWarning: \n",
            "\n",
            "`shade` is now deprecated in favor of `fill`; setting `fill=True`.\n",
            "This will become an error in seaborn v0.14.0; please update your code.\n",
            "\n",
            "  sns.kdeplot(df[coluna], shade=True)\n",
            "<ipython-input-88-4977d59d1dd7>:7: FutureWarning: \n",
            "\n",
            "`shade` is now deprecated in favor of `fill`; setting `fill=True`.\n",
            "This will become an error in seaborn v0.14.0; please update your code.\n",
            "\n",
            "  sns.kdeplot(df[coluna], shade=True)\n",
            "<ipython-input-88-4977d59d1dd7>:7: FutureWarning: \n",
            "\n",
            "`shade` is now deprecated in favor of `fill`; setting `fill=True`.\n",
            "This will become an error in seaborn v0.14.0; please update your code.\n",
            "\n",
            "  sns.kdeplot(df[coluna], shade=True)\n"
          ]
        },
        {
          "data": {
            "image/png": "[encoded data removed]",
            "text/plain": [
              "<Figure size 1500x1000 with 4 Axes>"
            ]
          },
          "metadata": {},
          "output_type": "display_data"
        }
      ],
      "source": [
        "colunas = [ 'NU_ANO', 'NU_IDADE', 'TP_COR_RACA', 'TP_DEPENDENCIA', ]\n",
        "\n",
        "plt.figure(figsize=(15, 10))\n",
        "\n",
        "for i, coluna in enumerate(colunas, 1):\n",
        "    plt.subplot(3, 3, i)\n",
        "    sns.kdeplot(df[coluna], shade=True)\n",
        "    plt.title(coluna)\n",
        "\n",
        "plt.tight_layout()\n",
        "plt.show()"
      ]
    },
    {
      "cell_type": "markdown",
      "metadata": {
        "id": "1w_k3LbGAHCn"
      },
      "source": [
        "como podemos ver que alguns seguem e outros nao, levando a necessidade de ele ser avaliado de formas específicas."
      ]
    },
    {
      "cell_type": "markdown",
      "metadata": {
        "id": "aPtAfy4K1LYP"
      },
      "source": [
        "grafico de densidade"
      ]
    },
    {
      "cell_type": "code",
      "execution_count": null,
      "metadata": {
        "colab": {
          "base_uri": "https://localhost:8080/"
        },
        "id": "6jcMbt2wlpi6",
        "outputId": "f6437986-10a4-405c-8904-7105a1486ca1"
      },
      "outputs": [
        {
          "name": "stderr",
          "output_type": "stream",
          "text": [
            "<ipython-input-89-2850025dd1a5>:5: FutureWarning: \n",
            "\n",
            "`shade` is now deprecated in favor of `fill`; setting `fill=True`.\n",
            "This will become an error in seaborn v0.14.0; please update your code.\n",
            "\n",
            "  df[colunas].apply(lambda coluna: sns.kdeplot(coluna.dropna(), shade=True), axis=0)\n",
            "<ipython-input-89-2850025dd1a5>:5: FutureWarning: \n",
            "\n",
            "`shade` is now deprecated in favor of `fill`; setting `fill=True`.\n",
            "This will become an error in seaborn v0.14.0; please update your code.\n",
            "\n",
            "  df[colunas].apply(lambda coluna: sns.kdeplot(coluna.dropna(), shade=True), axis=0)\n",
            "<ipython-input-89-2850025dd1a5>:5: FutureWarning: \n",
            "\n",
            "`shade` is now deprecated in favor of `fill`; setting `fill=True`.\n",
            "This will become an error in seaborn v0.14.0; please update your code.\n",
            "\n",
            "  df[colunas].apply(lambda coluna: sns.kdeplot(coluna.dropna(), shade=True), axis=0)\n",
            "<ipython-input-89-2850025dd1a5>:5: FutureWarning: \n",
            "\n",
            "`shade` is now deprecated in favor of `fill`; setting `fill=True`.\n",
            "This will become an error in seaborn v0.14.0; please update your code.\n",
            "\n",
            "  df[colunas].apply(lambda coluna: sns.kdeplot(coluna.dropna(), shade=True), axis=0)\n"
          ]
        },
        {
          "data": {
            "image/png": "[encoded data removed]",
            "text/plain": [
              "<Figure size 1500x1000 with 1 Axes>"
            ]
          },
          "metadata": {},
          "output_type": "display_data"
        }
      ],
      "source": [
        "\n",
        "colunas = [ 'NU_ANO', 'NU_IDADE', 'TP_COR_RACA', 'TP_DEPENDENCIA', ]\n",
        "\n",
        "plt.figure(figsize=(15, 10))\n",
        "\n",
        "df[colunas].apply(lambda coluna: sns.kdeplot(coluna.dropna(), shade=True), axis=0)\n",
        "\n",
        "plt.suptitle('Gráficos de Densidade das Variáveis', fontsize=16)\n",
        "plt.tight_layout(rect=[0, 0.03, 1, 0.95])\n",
        "\n",
        "plt.show()\n"
      ]
    },
    {
      "cell_type": "markdown",
      "metadata": {
        "id": "PxZkVtstAdTX"
      },
      "source": [
        "como podemos ver ele não tem uma distribuição mt simetrica, sendo, na verdade, bastante diferente"
      ]
    },
    {
      "cell_type": "markdown",
      "metadata": {
        "id": "ve5qv6CKkmnA"
      },
      "source": [
        "nao segue uma gaussiana, vamos ver como deveria ser uma gaussiana:"
      ]
    },
    {
      "cell_type": "code",
      "execution_count": null,
      "metadata": {
        "colab": {
          "base_uri": "https://localhost:8080/"
        },
        "id": "7vRKAaKUiiHL",
        "outputId": "8bac572c-fbd0-4c3a-d240-2f90f5dfd899"
      },
      "outputs": [
        {
          "name": "stderr",
          "output_type": "stream",
          "text": [
            "<ipython-input-90-4afd2f720159>:2: FutureWarning: \n",
            "\n",
            "`shade` is now deprecated in favor of `fill`; setting `fill=True`.\n",
            "This will become an error in seaborn v0.14.0; please update your code.\n",
            "\n",
            "  sns.kdeplot(dados_normais, shade=True)\n"
          ]
        },
        {
          "data": {
            "image/png": "[encoded data removed]",
            "text/plain": [
              "<Figure size 640x480 with 1 Axes>"
            ]
          },
          "metadata": {},
          "output_type": "display_data"
        }
      ],
      "source": [
        "\n",
        "dados_normais = np.random.normal(loc=0, scale=1, size=1000)\n",
        "sns.kdeplot(dados_normais, shade=True)\n",
        "plt.title(\"Gráfico de Densidade de uma Distribuição Normal\")\n",
        "plt.xlabel(\"Valores\")\n",
        "plt.ylabel(\"Densidade\")\n",
        "plt.show()\n"
      ]
    },
    {
      "cell_type": "markdown",
      "metadata": {
        "id": "4bCHqaN4k1hS"
      },
      "source": [
        "vamos ver agora Q-Q"
      ]
    },
    {
      "cell_type": "code",
      "execution_count": null,
      "metadata": {
        "colab": {
          "base_uri": "https://localhost:8080/"
        },
        "id": "DjxHvgwniN4_",
        "outputId": "e296d7f7-791f-47ec-990d-c3a16a16484e"
      },
      "outputs": [
        {
          "data": {
            "image/png": "[encoded data removed]",
            "text/plain": [
              "<Figure size 1500x1000 with 4 Axes>"
            ]
          },
          "metadata": {},
          "output_type": "display_data"
        }
      ],
      "source": [
        "import scipy.stats as stats\n",
        "colunas = [ 'NU_ANO', 'NU_IDADE', 'TP_COR_RACA', 'TP_DEPENDENCIA', ]\n",
        "\n",
        "plt.figure(figsize=(15, 10))\n",
        "\n",
        "for i, coluna in enumerate(colunas, 1):\n",
        "    plt.subplot(3, 3, i)\n",
        "\n",
        "    dados = df[coluna].dropna()\n",
        "\n",
        "    quant_empiricos = np.sort(dados)\n",
        "    quant_teoricos = np.sort(np.random.normal(np.mean(dados), np.std(dados), len(dados)))\n",
        "\n",
        "    stats.probplot(dados, dist=\"norm\", plot=plt)\n",
        "    plt.title(coluna)\n",
        "\n",
        "plt.tight_layout()\n",
        "plt.show()"
      ]
    },
    {
      "cell_type": "markdown",
      "metadata": {
        "id": "N6tK-BslAlrA"
      },
      "source": [
        "confirmamos a suposição anterior sobre a gaussiana"
      ]
    },
    {
      "cell_type": "markdown",
      "metadata": {
        "id": "EUIBybcqk5Nh"
      },
      "source": [
        "Aqui seria uma distribuição de um grafico normal"
      ]
    },
    {
      "cell_type": "code",
      "execution_count": null,
      "metadata": {
        "colab": {
          "base_uri": "https://localhost:8080/"
        },
        "id": "0eBEmlbYixJd",
        "outputId": "ac057158-49af-48ac-a07a-c403d5aeebc4"
      },
      "outputs": [
        {
          "data": {
            "image/png": "[encoded data removed]",
            "text/plain": [
              "<Figure size 600x600 with 1 Axes>"
            ]
          },
          "metadata": {},
          "output_type": "display_data"
        }
      ],
      "source": [
        "dados_normais = np.random.normal(loc=0, scale=1, size=1000)\n",
        "\n",
        "quant_empiricos = np.sort(dados_normais)\n",
        "quant_teoricos = np.sort(np.random.normal(np.mean(dados_normais), np.std(dados_normais), len(dados_normais)))\n",
        "\n",
        "plt.figure(figsize=(6, 6))\n",
        "stats.probplot(dados_normais, dist=\"norm\", plot=plt)\n",
        "plt.title(\"Gráfico Q-Q de uma Distribuição Normal\")\n",
        "plt.xlabel(\"Quantis Teóricos\")\n",
        "plt.ylabel(\"Quantis Empíricos\")\n",
        "plt.grid(True)\n",
        "plt.show()"
      ]
    },
    {
      "cell_type": "code",
      "execution_count": null,
      "metadata": {
        "colab": {
          "base_uri": "https://localhost:8080/"
        },
        "id": "_vroeDbODn_x",
        "outputId": "7beed07b-b358-4e08-dcac-7f73917cfb98"
      },
      "outputs": [
        {
          "name": "stdout",
          "output_type": "stream",
          "text": [
            "Index(['ID_ALUNO', 'ID_MATRICULA', 'NU_MES', 'NU_ANO', 'NU_IDADE', 'TP_SEXO',\n",
            "       'TP_COR_RACA', 'TP_DEPENDENCIA', 'TP_LOCALIZACAO',\n",
            "       'IN_NECESSIDADE_ESPECIAL'],\n",
            "      dtype='object')\n"
          ]
        }
      ],
      "source": [
        "print(df.columns)"
      ]
    },
    {
      "cell_type": "code",
      "execution_count": null,
      "metadata": {
        "colab": {
          "base_uri": "https://localhost:8080/"
        },
        "id": "sd9k1CxTFax3",
        "outputId": "db290e4e-0b52-4fa3-9ce0-8a9e06d8e0d9"
      },
      "outputs": [
        {
          "data": {
            "application/vnd.google.colaboratory.intrinsic+json": {
              "summary": "{\n  \"name\": \"df[['NU_IDADE', 'NU_ANO']]\",\n  \"rows\": 8,\n  \"fields\": [\n    {\n      \"column\": \"NU_IDADE\",\n      \"properties\": {\n        \"dtype\": \"number\",\n        \"std\": 13118.092317913637,\n        \"min\": 0.0,\n        \"max\": 37106.0,\n        \"num_unique_values\": 8,\n        \"samples\": [\n          1.6275284705592474,\n          1.4285714285714284,\n          37106.0\n        ],\n        \"semantic_type\": \"\",\n        \"description\": \"\"\n      }\n    },\n    {\n      \"column\": \"NU_ANO\",\n      \"properties\": {\n        \"dtype\": \"number\",\n        \"std\": 13116.669510787846,\n        \"min\": 0.0,\n        \"max\": 37106.0,\n        \"num_unique_values\": 8,\n        \"samples\": [\n          8.372471529440764,\n          8.571428571428584,\n          37106.0\n        ],\n        \"semantic_type\": \"\",\n        \"description\": \"\"\n      }\n    }\n  ]\n}",
              "type": "dataframe"
            },
            "text/html": [
              "\n",
              "  <div id=\"df-618ef6c8-a8ff-43cb-ba3f-3606d70ac5e5\" class=\"colab-df-container\">\n",
              "    <div>\n",
              "<style scoped>\n",
              "    .dataframe tbody tr th:only-of-type {\n",
              "        vertical-align: middle;\n",
              "    }\n",
              "\n",
              "    .dataframe tbody tr th {\n",
              "        vertical-align: top;\n",
              "    }\n",
              "\n",
              "    .dataframe thead th {\n",
              "        text-align: right;\n",
              "    }\n",
              "</style>\n",
              "<table border=\"1\" class=\"dataframe\">\n",
              "  <thead>\n",
              "    <tr style=\"text-align: right;\">\n",
              "      <th></th>\n",
              "      <th>NU_IDADE</th>\n",
              "      <th>NU_ANO</th>\n",
              "    </tr>\n",
              "  </thead>\n",
              "  <tbody>\n",
              "    <tr>\n",
              "      <th>count</th>\n",
              "      <td>37106.000000</td>\n",
              "      <td>37106.000000</td>\n",
              "    </tr>\n",
              "    <tr>\n",
              "      <th>mean</th>\n",
              "      <td>1.627528</td>\n",
              "      <td>8.372472</td>\n",
              "    </tr>\n",
              "    <tr>\n",
              "      <th>std</th>\n",
              "      <td>1.117242</td>\n",
              "      <td>1.117242</td>\n",
              "    </tr>\n",
              "    <tr>\n",
              "      <th>min</th>\n",
              "      <td>0.000000</td>\n",
              "      <td>0.000000</td>\n",
              "    </tr>\n",
              "    <tr>\n",
              "      <th>25%</th>\n",
              "      <td>0.952381</td>\n",
              "      <td>8.095238</td>\n",
              "    </tr>\n",
              "    <tr>\n",
              "      <th>50%</th>\n",
              "      <td>1.428571</td>\n",
              "      <td>8.571429</td>\n",
              "    </tr>\n",
              "    <tr>\n",
              "      <th>75%</th>\n",
              "      <td>1.904762</td>\n",
              "      <td>9.047619</td>\n",
              "    </tr>\n",
              "    <tr>\n",
              "      <th>max</th>\n",
              "      <td>10.000000</td>\n",
              "      <td>10.000000</td>\n",
              "    </tr>\n",
              "  </tbody>\n",
              "</table>\n",
              "</div>\n",
              "    <div class=\"colab-df-buttons\">\n",
              "\n",
              "  <div class=\"colab-df-container\">\n",
              "    <button class=\"colab-df-convert\" onclick=\"convertToInteractive('df-618ef6c8-a8ff-43cb-ba3f-3606d70ac5e5')\"\n",
              "            title=\"Convert this dataframe to an interactive table.\"\n",
              "            style=\"display:none;\">\n",
              "\n",
              "  <svg xmlns=\"http://www.w3.org/2000/svg\" height=\"24px\" viewBox=\"0 -960 960 960\">\n",
              "    <path d=\"M120-120v-720h720v720H120Zm60-500h600v-160H180v160Zm220 220h160v-160H400v160Zm0 220h160v-160H400v160ZM180-400h160v-160H180v160Zm440 0h160v-160H620v160ZM180-180h160v-160H180v160Zm440 0h160v-160H620v160Z\"/>\n",
              "  </svg>\n",
              "    </button>\n",
              "\n",
              "  <style>\n",
              "    .colab-df-container {\n",
              "      display:flex;\n",
              "      gap: 12px;\n",
              "    }\n",
              "\n",
              "    .colab-df-convert {\n",
              "      background-color: #E8F0FE;\n",
              "      border: none;\n",
              "      border-radius: 50%;\n",
              "      cursor: pointer;\n",
              "      display: none;\n",
              "      fill: #1967D2;\n",
              "      height: 32px;\n",
              "      padding: 0 0 0 0;\n",
              "      width: 32px;\n",
              "    }\n",
              "\n",
              "    .colab-df-convert:hover {\n",
              "      background-color: #E2EBFA;\n",
              "      box-shadow: 0px 1px 2px rgba(60, 64, 67, 0.3), 0px 1px 3px 1px rgba(60, 64, 67, 0.15);\n",
              "      fill: #174EA6;\n",
              "    }\n",
              "\n",
              "    .colab-df-buttons div {\n",
              "      margin-bottom: 4px;\n",
              "    }\n",
              "\n",
              "    [theme=dark] .colab-df-convert {\n",
              "      background-color: #3B4455;\n",
              "      fill: #D2E3FC;\n",
              "    }\n",
              "\n",
              "    [theme=dark] .colab-df-convert:hover {\n",
              "      background-color: #434B5C;\n",
              "      box-shadow: 0px 1px 3px 1px rgba(0, 0, 0, 0.15);\n",
              "      filter: drop-shadow(0px 1px 2px rgba(0, 0, 0, 0.3));\n",
              "      fill: #FFFFFF;\n",
              "    }\n",
              "  </style>\n",
              "\n",
              "    <script>\n",
              "      const buttonEl =\n",
              "        document.querySelector('#df-618ef6c8-a8ff-43cb-ba3f-3606d70ac5e5 button.colab-df-convert');\n",
              "      buttonEl.style.display =\n",
              "        google.colab.kernel.accessAllowed ? 'block' : 'none';\n",
              "\n",
              "      async function convertToInteractive(key) {\n",
              "        const element = document.querySelector('#df-618ef6c8-a8ff-43cb-ba3f-3606d70ac5e5');\n",
              "        const dataTable =\n",
              "          await google.colab.kernel.invokeFunction('convertToInteractive',\n",
              "                                                    [key], {});\n",
              "        if (!dataTable) return;\n",
              "\n",
              "        const docLinkHtml = 'Like what you see? Visit the ' +\n",
              "          '<a target=\"_blank\" href=https://colab.research.google.com/notebooks/data_table.ipynb>data table notebook</a>'\n",
              "          + ' to learn more about interactive tables.';\n",
              "        element.innerHTML = '';\n",
              "        dataTable['output_type'] = 'display_data';\n",
              "        await google.colab.output.renderOutput(dataTable, element);\n",
              "        const docLink = document.createElement('div');\n",
              "        docLink.innerHTML = docLinkHtml;\n",
              "        element.appendChild(docLink);\n",
              "      }\n",
              "    </script>\n",
              "  </div>\n",
              "\n",
              "\n",
              "<div id=\"df-c30c4dc8-bd31-4c43-ae51-fb75a570a518\">\n",
              "  <button class=\"colab-df-quickchart\" onclick=\"quickchart('df-c30c4dc8-bd31-4c43-ae51-fb75a570a518')\"\n",
              "            title=\"Suggest charts\"\n",
              "            style=\"display:none;\">\n",
              "\n",
              "<svg xmlns=\"http://www.w3.org/2000/svg\" height=\"24px\"viewBox=\"0 0 24 24\"\n",
              "     width=\"24px\">\n",
              "    <g>\n",
              "        <path d=\"M19 3H5c-1.1 0-2 .9-2 2v14c0 1.1.9 2 2 2h14c1.1 0 2-.9 2-2V5c0-1.1-.9-2-2-2zM9 17H7v-7h2v7zm4 0h-2V7h2v10zm4 0h-2v-4h2v4z\"/>\n",
              "    </g>\n",
              "</svg>\n",
              "  </button>\n",
              "\n",
              "<style>\n",
              "  .colab-df-quickchart {\n",
              "      --bg-color: #E8F0FE;\n",
              "      --fill-color: #1967D2;\n",
              "      --hover-bg-color: #E2EBFA;\n",
              "      --hover-fill-color: #174EA6;\n",
              "      --disabled-fill-color: #AAA;\n",
              "      --disabled-bg-color: #DDD;\n",
              "  }\n",
              "\n",
              "  [theme=dark] .colab-df-quickchart {\n",
              "      --bg-color: #3B4455;\n",
              "      --fill-color: #D2E3FC;\n",
              "      --hover-bg-color: #434B5C;\n",
              "      --hover-fill-color: #FFFFFF;\n",
              "      --disabled-bg-color: #3B4455;\n",
              "      --disabled-fill-color: #666;\n",
              "  }\n",
              "\n",
              "  .colab-df-quickchart {\n",
              "    background-color: var(--bg-color);\n",
              "    border: none;\n",
              "    border-radius: 50%;\n",
              "    cursor: pointer;\n",
              "    display: none;\n",
              "    fill: var(--fill-color);\n",
              "    height: 32px;\n",
              "    padding: 0;\n",
              "    width: 32px;\n",
              "  }\n",
              "\n",
              "  .colab-df-quickchart:hover {\n",
              "    background-color: var(--hover-bg-color);\n",
              "    box-shadow: 0 1px 2px rgba(60, 64, 67, 0.3), 0 1px 3px 1px rgba(60, 64, 67, 0.15);\n",
              "    fill: var(--button-hover-fill-color);\n",
              "  }\n",
              "\n",
              "  .colab-df-quickchart-complete:disabled,\n",
              "  .colab-df-quickchart-complete:disabled:hover {\n",
              "    background-color: var(--disabled-bg-color);\n",
              "    fill: var(--disabled-fill-color);\n",
              "    box-shadow: none;\n",
              "  }\n",
              "\n",
              "  .colab-df-spinner {\n",
              "    border: 2px solid var(--fill-color);\n",
              "    border-color: transparent;\n",
              "    border-bottom-color: var(--fill-color);\n",
              "    animation:\n",
              "      spin 1s steps(1) infinite;\n",
              "  }\n",
              "\n",
              "  @keyframes spin {\n",
              "    0% {\n",
              "      border-color: transparent;\n",
              "      border-bottom-color: var(--fill-color);\n",
              "      border-left-color: var(--fill-color);\n",
              "    }\n",
              "    20% {\n",
              "      border-color: transparent;\n",
              "      border-left-color: var(--fill-color);\n",
              "      border-top-color: var(--fill-color);\n",
              "    }\n",
              "    30% {\n",
              "      border-color: transparent;\n",
              "      border-left-color: var(--fill-color);\n",
              "      border-top-color: var(--fill-color);\n",
              "      border-right-color: var(--fill-color);\n",
              "    }\n",
              "    40% {\n",
              "      border-color: transparent;\n",
              "      border-right-color: var(--fill-color);\n",
              "      border-top-color: var(--fill-color);\n",
              "    }\n",
              "    60% {\n",
              "      border-color: transparent;\n",
              "      border-right-color: var(--fill-color);\n",
              "    }\n",
              "    80% {\n",
              "      border-color: transparent;\n",
              "      border-right-color: var(--fill-color);\n",
              "      border-bottom-color: var(--fill-color);\n",
              "    }\n",
              "    90% {\n",
              "      border-color: transparent;\n",
              "      border-bottom-color: var(--fill-color);\n",
              "    }\n",
              "  }\n",
              "</style>\n",
              "\n",
              "  <script>\n",
              "    async function quickchart(key) {\n",
              "      const quickchartButtonEl =\n",
              "        document.querySelector('#' + key + ' button');\n",
              "      quickchartButtonEl.disabled = true;  // To prevent multiple clicks.\n",
              "      quickchartButtonEl.classList.add('colab-df-spinner');\n",
              "      try {\n",
              "        const charts = await google.colab.kernel.invokeFunction(\n",
              "            'suggestCharts', [key], {});\n",
              "      } catch (error) {\n",
              "        console.error('Error during call to suggestCharts:', error);\n",
              "      }\n",
              "      quickchartButtonEl.classList.remove('colab-df-spinner');\n",
              "      quickchartButtonEl.classList.add('colab-df-quickchart-complete');\n",
              "    }\n",
              "    (() => {\n",
              "      let quickchartButtonEl =\n",
              "        document.querySelector('#df-c30c4dc8-bd31-4c43-ae51-fb75a570a518 button');\n",
              "      quickchartButtonEl.style.display =\n",
              "        google.colab.kernel.accessAllowed ? 'block' : 'none';\n",
              "    })();\n",
              "  </script>\n",
              "</div>\n",
              "\n",
              "    </div>\n",
              "  </div>\n"
            ],
            "text/plain": [
              "           NU_IDADE        NU_ANO\n",
              "count  37106.000000  37106.000000\n",
              "mean       1.627528      8.372472\n",
              "std        1.117242      1.117242\n",
              "min        0.000000      0.000000\n",
              "25%        0.952381      8.095238\n",
              "50%        1.428571      8.571429\n",
              "75%        1.904762      9.047619\n",
              "max       10.000000     10.000000"
            ]
          },
          "execution_count": 94,
          "metadata": {},
          "output_type": "execute_result"
        }
      ],
      "source": [
        "from sklearn.preprocessing import MinMaxScaler\n",
        "scaler = MinMaxScaler(feature_range=(0, 10))\n",
        "\n",
        "df[['NU_IDADE', 'NU_ANO']] = scaler.fit_transform(df[['NU_IDADE', 'NU_ANO']])\n",
        "df[['NU_IDADE', 'NU_ANO']].describe()"
      ]
    },
    {
      "cell_type": "code",
      "execution_count": null,
      "metadata": {
        "colab": {
          "base_uri": "https://localhost:8080/"
        },
        "id": "0TD3wdK9Flxk",
        "outputId": "8dbedc14-8c7e-4222-dec2-810f7ff9a55d"
      },
      "outputs": [
        {
          "data": {
            "image/png": "[encoded data removed]",
            "text/plain": [
              "<Figure size 1000x500 with 2 Axes>"
            ]
          },
          "metadata": {},
          "output_type": "display_data"
        }
      ],
      "source": [
        "plt.figure(figsize=(10, 5))\n",
        "\n",
        "plt.subplot(1, 2, 1)\n",
        "plt.hist(df['NU_IDADE'], bins=20, color='skyblue', edgecolor='black')\n",
        "plt.xlabel('Idade (Normalizada)')\n",
        "plt.ylabel('Frequência')\n",
        "plt.title('Distribuição das Idades Normalizadas')\n",
        "\n",
        "plt.subplot(1, 2, 2)\n",
        "plt.hist(df['NU_ANO'], bins=20, color='salmon', edgecolor='black')\n",
        "plt.xlabel('Ano (Normalizado)')\n",
        "plt.ylabel('Frequência')\n",
        "plt.title('Distribuição dos Anos Normalizados')\n",
        "\n",
        "plt.tight_layout()\n",
        "plt.show()"
      ]
    },
    {
      "cell_type": "markdown",
      "metadata": {
        "id": "BD5_6MgB3zt6"
      },
      "source": [
        "imputação do tipo KNN"
      ]
    },
    {
      "cell_type": "code",
      "execution_count": null,
      "metadata": {
        "id": "oelEIym938gL"
      },
      "outputs": [],
      "source": [
        "from sklearn.impute import KNNImputer\n",
        "\n",
        "imputer = KNNImputer(n_neighbors=3)\n",
        "\n",
        "df['TP_COR_RACA'] = imputer.fit_transform(df[['TP_COR_RACA']])\n"
      ]
    },
    {
      "cell_type": "code",
      "execution_count": null,
      "metadata": {
        "id": "OjBiDS3t3-7D"
      },
      "outputs": [],
      "source": [
        "print(df.isna().sum())"
      ]
    },
    {
      "cell_type": "markdown",
      "metadata": {
        "id": "RYoUShnVGoa1"
      },
      "source": [
        "# Discretização"
      ]
    },
    {
      "cell_type": "markdown",
      "metadata": {
        "id": "nvnCbsWZEfWt"
      },
      "source": [
        "usei 10 bins\n"
      ]
    },
    {
      "cell_type": "code",
      "execution_count": null,
      "metadata": {
        "id": "P4kaU-erIAhw"
      },
      "outputs": [],
      "source": [
        "print(pd.__version__)"
      ]
    },
    {
      "cell_type": "markdown",
      "metadata": {
        "id": "Qex_N3MDBkRf"
      },
      "source": [
        "aqui separei em intervalos de 10 para fazer a discretização das idades"
      ]
    },
    {
      "cell_type": "code",
      "execution_count": null,
      "metadata": {
        "id": "-6Eg0v-lG2-e"
      },
      "outputs": [],
      "source": [
        "df['NU_IDADE_d'] = pd.cut(df['NU_IDADE'],10)\n",
        "\n",
        "\n",
        "df['NU_IDADE_d'].value_counts()\n",
        "\n",
        "\n",
        "df['NU_IDADE'].describe()"
      ]
    },
    {
      "cell_type": "markdown",
      "metadata": {
        "id": "wD_3BwMdFWx5"
      },
      "source": [
        "# retirando outliers"
      ]
    },
    {
      "cell_type": "code",
      "execution_count": null,
      "metadata": {
        "id": "EeubpgupjH7l"
      },
      "outputs": [],
      "source": [
        "colunas = [ 'NU_ANO', 'NU_IDADE', 'TP_COR_RACA', 'TP_DEPENDENCIA']\n",
        "\n",
        "plt.figure(figsize=(15, 10))\n",
        "\n",
        "for i, coluna in enumerate(colunas, 1):\n",
        "    plt.subplot(3, 3, i)\n",
        "    sns.boxplot(x=df[coluna])\n",
        "    plt.title(coluna)\n",
        "\n",
        "plt.tight_layout()\n",
        "plt.show()\n"
      ]
    },
    {
      "cell_type": "markdown",
      "metadata": {
        "id": "0fhaAQMOBqh9"
      },
      "source": [
        "verificamos que variaveis como ano e idade tem outliers"
      ]
    },
    {
      "cell_type": "markdown",
      "metadata": {
        "id": "pWrhFQMGndzF"
      },
      "source": [
        "Aqui fiz uma análise descritiva"
      ]
    },
    {
      "cell_type": "code",
      "execution_count": null,
      "metadata": {
        "id": "Kjc3V0J_jv9K"
      },
      "outputs": [],
      "source": [
        "descritivo = df.describe()\n",
        "\n",
        "print(descritivo)"
      ]
    },
    {
      "cell_type": "code",
      "execution_count": null,
      "metadata": {
        "id": "g6q1mGvljU-l"
      },
      "outputs": [],
      "source": [
        "coluna = 'NU_IDADE'\n",
        "\n",
        "z_scores = (df[coluna] - df[coluna].mean()) / df[coluna].std()\n",
        "\n",
        "threshold = 3\n",
        "outliers = df[abs(z_scores) > threshold]\n",
        "\n",
        "print(\"Outliers detectados:\")\n",
        "print(outliers)"
      ]
    },
    {
      "cell_type": "code",
      "execution_count": null,
      "metadata": {
        "id": "r7cDAAQgh9sa"
      },
      "outputs": [],
      "source": [
        "df['NU_ANO'].plot.box()"
      ]
    },
    {
      "cell_type": "markdown",
      "metadata": {
        "id": "9MKjUiVXCtox"
      },
      "source": [
        "aqui podemos ver os outliers da coluna ANO, demonstrando uma necessidade de correção"
      ]
    },
    {
      "cell_type": "markdown",
      "metadata": {
        "id": "tbjM0ti0EIIX"
      },
      "source": [
        "z-score robusto\n"
      ]
    },
    {
      "cell_type": "code",
      "execution_count": null,
      "metadata": {
        "id": "D6F8TjueiOt8"
      },
      "outputs": [],
      "source": [
        "df['NU_ANO'].hist()"
      ]
    },
    {
      "cell_type": "code",
      "execution_count": null,
      "metadata": {
        "id": "bToOyVFaiXtm"
      },
      "outputs": [],
      "source": [
        "from numpy import log10\n",
        "df['NU_ANO.log'] = log10(df['NU_ANO'] + 1e-9)  # Adicionando uma pequena constante (1e-9)\n",
        "df['NU_ANO.log'].hist()\n"
      ]
    },
    {
      "cell_type": "code",
      "execution_count": null,
      "metadata": {
        "id": "otTMH_Y6iroX"
      },
      "outputs": [],
      "source": [
        "from numpy import abs\n",
        "mad = abs(df['NU_ANO.log'] - df['NU_ANO.log'].median()).median()*(1/0.6745)\n",
        "print(mad)"
      ]
    },
    {
      "cell_type": "code",
      "execution_count": null,
      "metadata": {
        "id": "LCVN5vvvi_a4"
      },
      "outputs": [],
      "source": [
        "df['NU_ANO.log'].abs().median()\n"
      ]
    },
    {
      "cell_type": "code",
      "execution_count": null,
      "metadata": {
        "id": "D9MhBq-Ojmdf"
      },
      "outputs": [],
      "source": [
        "(abs(df['NU_ANO.log']-df['NU_ANO.log'].median())/mad).hist()"
      ]
    },
    {
      "cell_type": "markdown",
      "metadata": {
        "id": "Kvprc7xAC6si"
      },
      "source": [
        "calculamos o valor absoluto da diferença entre cada valor na coluna 'NU_ANO.log' e a mediana dessa mesma coluna , calculando a distância absoluta entre cada valor na coluna 'NU_ANO.log' e a mediana dessa coluna"
      ]
    },
    {
      "cell_type": "code",
      "execution_count": null,
      "metadata": {
        "id": "E1Bypke8j0OT"
      },
      "outputs": [],
      "source": [
        "df[abs(df['NU_ANO.log']-df['NU_ANO.log'].median())/mad > 3.5]"
      ]
    },
    {
      "cell_type": "code",
      "execution_count": null,
      "metadata": {
        "id": "77vq6tcPj-pa"
      },
      "outputs": [],
      "source": [
        "\n",
        "df[abs(df['NU_ANO.log']-df['NU_ANO.log'].median())/mad < 3.5]\n",
        "print(len(df))"
      ]
    },
    {
      "cell_type": "markdown",
      "metadata": {
        "id": "W5k-UyH4DUjd"
      },
      "source": [
        "o processo se repete com a idade"
      ]
    },
    {
      "cell_type": "code",
      "execution_count": null,
      "metadata": {
        "id": "xY8goC4RB-Jt"
      },
      "outputs": [],
      "source": [
        "df['NU_IDADE'].plot.box()"
      ]
    },
    {
      "cell_type": "code",
      "execution_count": null,
      "metadata": {
        "id": "p57sOqfXCBWt"
      },
      "outputs": [],
      "source": [
        "from numpy import log10\n",
        "df['NU_IDADE.log'] = log10(df['NU_IDADE'] + 1e-9)  # Adicionando uma pequena constante (1e-9)\n",
        "df['NU_IDADE.log'].hist()\n"
      ]
    },
    {
      "cell_type": "code",
      "execution_count": null,
      "metadata": {
        "id": "Wa8qNuqcCN2e"
      },
      "outputs": [],
      "source": [
        "df['NU_IDADE.log'].abs().median()\n"
      ]
    },
    {
      "cell_type": "code",
      "execution_count": null,
      "metadata": {
        "id": "CV3L5a6VCRoW"
      },
      "outputs": [],
      "source": [
        "(abs(df['NU_IDADE.log']-df['NU_IDADE.log'].median())/mad).hist()"
      ]
    },
    {
      "cell_type": "code",
      "execution_count": null,
      "metadata": {
        "id": "eSMPgidgCY3H"
      },
      "outputs": [],
      "source": [
        "df[abs(df['NU_IDADE.log']-df['NU_IDADE.log'].median())/mad > 3.5]"
      ]
    },
    {
      "cell_type": "code",
      "execution_count": null,
      "metadata": {
        "id": "aTYTOYdOCf5w"
      },
      "outputs": [],
      "source": [
        "\n",
        "df[abs(df['NU_IDADE.log']-df['NU_IDADE.log'].median())/mad < 3.5]\n",
        "print(len(df))"
      ]
    },
    {
      "cell_type": "markdown",
      "metadata": {
        "id": "_FMkfHotDXyd"
      },
      "source": [
        "## Conclusoes do projeto"
      ]
    },
    {
      "cell_type": "markdown",
      "metadata": {
        "id": "A3QDlQSsEFc5"
      },
      "source": [
        "chegamos a conclusao que existe uma maioria com idade entre 12-20 anos e que, embora os dados pareçam limpos, verificamos inconsistencias, outliers, que poderiam danificar a avaliação.\n",
        "Assim, conseguimos, a partir do teste de hipotese, verificar a relação de:\n",
        "Hipótese Nula(H0): Não há diferença significativa na idade média entre alunos com e sem necessidade especial.\n",
        "\n",
        "Hipótese Alternativa(H1): Existe uma diferença significativa na idade média entre alunos com e sem necessidade especial.\n",
        "\n",
        "levando a análises que fogem do senso matemático mas que vão para a sociedade como um todo, tendo como exemplo a maioria de pessoas brancas em orgãos privados, fato que se relaciona com o passado escravista brasileiro.\n",
        "\n",
        "Dessa forma, avaliar os dados, apos uma instensa preparação dos mesmos, nos leva a perceber como a sociedade se comporta frente as questoes sociais, comop racismo e capacitismo."
      ]
    },
    {
      "cell_type": "markdown",
      "metadata": {
        "id": "6lBYApBMFPvM"
      },
      "source": []
    },
    {
      "cell_type": "markdown",
      "metadata": {
        "id": "Rlko93akFXhm"
      },
      "source": [
        "# Parte 2"
      ]
    },
    {
      "cell_type": "markdown",
      "metadata": {
        "id": "XiBGwMWeGnFS"
      },
      "source": [
        "## classificação"
      ]
    },
    {
      "cell_type": "code",
      "execution_count": null,
      "metadata": {
        "id": "mkYStN4XGpo1"
      },
      "outputs": [],
      "source": [
        "df.columns"
      ]
    },
    {
      "cell_type": "code",
      "execution_count": null,
      "metadata": {
        "id": "TlB6rHqaGEmV"
      },
      "outputs": [],
      "source": [
        "df['IN_AUTISMO'] = in_autismo"
      ]
    },
    {
      "cell_type": "code",
      "execution_count": null,
      "metadata": {
        "id": "zLrY0-DgMD8u"
      },
      "outputs": [],
      "source": [
        "df = df[['NU_ANO', 'NU_IDADE', 'TP_COR_RACA', 'TP_DEPENDENCIA','IN_NECESSIDADE_ESPECIAL', 'IN_AUTISMO']]\n",
        "\n",
        "print(df)"
      ]
    },
    {
      "cell_type": "code",
      "execution_count": null,
      "metadata": {
        "id": "35bA4GaUH7qX"
      },
      "outputs": [],
      "source": [
        "df.columns"
      ]
    },
    {
      "cell_type": "code",
      "execution_count": null,
      "metadata": {
        "id": "UyfYh9oYHhBS"
      },
      "outputs": [],
      "source": [
        "df['TP_DEPENDENCIA']"
      ]
    },
    {
      "cell_type": "code",
      "execution_count": null,
      "metadata": {
        "id": "pCSwWpN9AOnH"
      },
      "outputs": [],
      "source": [
        "df.isna().sum()"
      ]
    },
    {
      "cell_type": "code",
      "execution_count": null,
      "metadata": {
        "id": "bCkEZ6T0ClVo"
      },
      "outputs": [],
      "source": [
        "df['IN_NECESSIDADE_ESPECIAL']"
      ]
    },
    {
      "cell_type": "code",
      "execution_count": null,
      "metadata": {
        "id": "SO5CCMU4JXxk"
      },
      "outputs": [],
      "source": [
        "df['TP_DEPENDENCIA']"
      ]
    },
    {
      "cell_type": "code",
      "execution_count": null,
      "metadata": {
        "id": "HJzw3JHIHdoB"
      },
      "outputs": [],
      "source": [
        "df['IN_AUTISMO'] = df['IN_AUTISMO'].fillna(0)"
      ]
    },
    {
      "cell_type": "code",
      "execution_count": null,
      "metadata": {
        "colab": {
          "base_uri": "https://localhost:8080/",
          "height": 492
        },
        "id": "kUTCd_xXJZVx",
        "outputId": "85e187e0-e020-4c87-fe82-741a48228ecd"
      },
      "outputs": [
        {
          "ename": "KeyError",
          "evalue": "'IN_AUTISMO'",
          "output_type": "error",
          "traceback": [
            "\u001b[0;31m---------------------------------------------------------------------------\u001b[0m",
            "\u001b[0;31mKeyError\u001b[0m                                  Traceback (most recent call last)",
            "\u001b[0;32m/usr/local/lib/python3.10/dist-packages/pandas/core/indexes/base.py\u001b[0m in \u001b[0;36mget_loc\u001b[0;34m(self, key)\u001b[0m\n\u001b[1;32m   3652\u001b[0m         \u001b[0;32mtry\u001b[0m\u001b[0;34m:\u001b[0m\u001b[0;34m\u001b[0m\u001b[0;34m\u001b[0m\u001b[0m\n\u001b[0;32m-> 3653\u001b[0;31m             \u001b[0;32mreturn\u001b[0m \u001b[0mself\u001b[0m\u001b[0;34m.\u001b[0m\u001b[0m_engine\u001b[0m\u001b[0;34m.\u001b[0m\u001b[0mget_loc\u001b[0m\u001b[0;34m(\u001b[0m\u001b[0mcasted_key\u001b[0m\u001b[0;34m)\u001b[0m\u001b[0;34m\u001b[0m\u001b[0;34m\u001b[0m\u001b[0m\n\u001b[0m\u001b[1;32m   3654\u001b[0m         \u001b[0;32mexcept\u001b[0m \u001b[0mKeyError\u001b[0m \u001b[0;32mas\u001b[0m \u001b[0merr\u001b[0m\u001b[0;34m:\u001b[0m\u001b[0;34m\u001b[0m\u001b[0;34m\u001b[0m\u001b[0m\n",
            "\u001b[0;32m/usr/local/lib/python3.10/dist-packages/pandas/_libs/index.pyx\u001b[0m in \u001b[0;36mpandas._libs.index.IndexEngine.get_loc\u001b[0;34m()\u001b[0m\n",
            "\u001b[0;32m/usr/local/lib/python3.10/dist-packages/pandas/_libs/index.pyx\u001b[0m in \u001b[0;36mpandas._libs.index.IndexEngine.get_loc\u001b[0;34m()\u001b[0m\n",
            "\u001b[0;32mpandas/_libs/hashtable_class_helper.pxi\u001b[0m in \u001b[0;36mpandas._libs.hashtable.PyObjectHashTable.get_item\u001b[0;34m()\u001b[0m\n",
            "\u001b[0;32mpandas/_libs/hashtable_class_helper.pxi\u001b[0m in \u001b[0;36mpandas._libs.hashtable.PyObjectHashTable.get_item\u001b[0;34m()\u001b[0m\n",
            "\u001b[0;31mKeyError\u001b[0m: 'IN_AUTISMO'",
            "\nThe above exception was the direct cause of the following exception:\n",
            "\u001b[0;31mKeyError\u001b[0m                                  Traceback (most recent call last)",
            "\u001b[0;32m<ipython-input-31-d74fa8cbaecf>\u001b[0m in \u001b[0;36m<cell line: 1>\u001b[0;34m()\u001b[0m\n\u001b[0;32m----> 1\u001b[0;31m \u001b[0mdf\u001b[0m\u001b[0;34m[\u001b[0m\u001b[0;34m'IN_AUTISMO'\u001b[0m\u001b[0;34m]\u001b[0m\u001b[0;34m\u001b[0m\u001b[0;34m\u001b[0m\u001b[0m\n\u001b[0m",
            "\u001b[0;32m/usr/local/lib/python3.10/dist-packages/pandas/core/frame.py\u001b[0m in \u001b[0;36m__getitem__\u001b[0;34m(self, key)\u001b[0m\n\u001b[1;32m   3759\u001b[0m             \u001b[0;32mif\u001b[0m \u001b[0mself\u001b[0m\u001b[0;34m.\u001b[0m\u001b[0mcolumns\u001b[0m\u001b[0;34m.\u001b[0m\u001b[0mnlevels\u001b[0m \u001b[0;34m>\u001b[0m \u001b[0;36m1\u001b[0m\u001b[0;34m:\u001b[0m\u001b[0;34m\u001b[0m\u001b[0;34m\u001b[0m\u001b[0m\n\u001b[1;32m   3760\u001b[0m                 \u001b[0;32mreturn\u001b[0m \u001b[0mself\u001b[0m\u001b[0;34m.\u001b[0m\u001b[0m_getitem_multilevel\u001b[0m\u001b[0;34m(\u001b[0m\u001b[0mkey\u001b[0m\u001b[0;34m)\u001b[0m\u001b[0;34m\u001b[0m\u001b[0;34m\u001b[0m\u001b[0m\n\u001b[0;32m-> 3761\u001b[0;31m             \u001b[0mindexer\u001b[0m \u001b[0;34m=\u001b[0m \u001b[0mself\u001b[0m\u001b[0;34m.\u001b[0m\u001b[0mcolumns\u001b[0m\u001b[0;34m.\u001b[0m\u001b[0mget_loc\u001b[0m\u001b[0;34m(\u001b[0m\u001b[0mkey\u001b[0m\u001b[0;34m)\u001b[0m\u001b[0;34m\u001b[0m\u001b[0;34m\u001b[0m\u001b[0m\n\u001b[0m\u001b[1;32m   3762\u001b[0m             \u001b[0;32mif\u001b[0m \u001b[0mis_integer\u001b[0m\u001b[0;34m(\u001b[0m\u001b[0mindexer\u001b[0m\u001b[0;34m)\u001b[0m\u001b[0;34m:\u001b[0m\u001b[0;34m\u001b[0m\u001b[0;34m\u001b[0m\u001b[0m\n\u001b[1;32m   3763\u001b[0m                 \u001b[0mindexer\u001b[0m \u001b[0;34m=\u001b[0m \u001b[0;34m[\u001b[0m\u001b[0mindexer\u001b[0m\u001b[0;34m]\u001b[0m\u001b[0;34m\u001b[0m\u001b[0;34m\u001b[0m\u001b[0m\n",
            "\u001b[0;32m/usr/local/lib/python3.10/dist-packages/pandas/core/indexes/base.py\u001b[0m in \u001b[0;36mget_loc\u001b[0;34m(self, key)\u001b[0m\n\u001b[1;32m   3653\u001b[0m             \u001b[0;32mreturn\u001b[0m \u001b[0mself\u001b[0m\u001b[0;34m.\u001b[0m\u001b[0m_engine\u001b[0m\u001b[0;34m.\u001b[0m\u001b[0mget_loc\u001b[0m\u001b[0;34m(\u001b[0m\u001b[0mcasted_key\u001b[0m\u001b[0;34m)\u001b[0m\u001b[0;34m\u001b[0m\u001b[0;34m\u001b[0m\u001b[0m\n\u001b[1;32m   3654\u001b[0m         \u001b[0;32mexcept\u001b[0m \u001b[0mKeyError\u001b[0m \u001b[0;32mas\u001b[0m \u001b[0merr\u001b[0m\u001b[0;34m:\u001b[0m\u001b[0;34m\u001b[0m\u001b[0;34m\u001b[0m\u001b[0m\n\u001b[0;32m-> 3655\u001b[0;31m             \u001b[0;32mraise\u001b[0m \u001b[0mKeyError\u001b[0m\u001b[0;34m(\u001b[0m\u001b[0mkey\u001b[0m\u001b[0;34m)\u001b[0m \u001b[0;32mfrom\u001b[0m \u001b[0merr\u001b[0m\u001b[0;34m\u001b[0m\u001b[0;34m\u001b[0m\u001b[0m\n\u001b[0m\u001b[1;32m   3656\u001b[0m         \u001b[0;32mexcept\u001b[0m \u001b[0mTypeError\u001b[0m\u001b[0;34m:\u001b[0m\u001b[0;34m\u001b[0m\u001b[0;34m\u001b[0m\u001b[0m\n\u001b[1;32m   3657\u001b[0m             \u001b[0;31m# If we have a listlike key, _check_indexing_error will raise\u001b[0m\u001b[0;34m\u001b[0m\u001b[0;34m\u001b[0m\u001b[0m\n",
            "\u001b[0;31mKeyError\u001b[0m: 'IN_AUTISMO'"
          ]
        }
      ],
      "source": [
        "df['IN_AUTISMO']"
      ]
    },
    {
      "cell_type": "code",
      "execution_count": null,
      "metadata": {
        "id": "vFircyYJP1gr"
      },
      "outputs": [],
      "source": [
        "df['TP_COR_RACA']"
      ]
    },
    {
      "cell_type": "code",
      "execution_count": null,
      "metadata": {
        "id": "ZiCPsWdXJuaQ"
      },
      "outputs": [],
      "source": [
        "df.isna().sum()"
      ]
    },
    {
      "cell_type": "code",
      "execution_count": null,
      "metadata": {
        "id": "j0nNLfolKUNa"
      },
      "outputs": [],
      "source": [
        "dependencia_mapping = {\n",
        "    1: 'Federal',\n",
        "    2: 'Estadual',\n",
        "    3: 'Municipal',\n",
        "    4: 'Privada'\n",
        "}\n",
        "df['TP_DEPENDENCIA'] = df['TP_DEPENDENCIA'].map(dependencia_mapping)\n"
      ]
    },
    {
      "cell_type": "code",
      "execution_count": null,
      "metadata": {
        "id": "2GDgpevDMCkS"
      },
      "outputs": [],
      "source": [
        "df['TP_DEPENDENCIA']"
      ]
    },
    {
      "cell_type": "code",
      "execution_count": null,
      "metadata": {
        "id": "AF_u5HogMIJm"
      },
      "outputs": [],
      "source": [
        "df.columns"
      ]
    },
    {
      "cell_type": "code",
      "execution_count": null,
      "metadata": {
        "id": "YP_bTZxVMLbB"
      },
      "outputs": [],
      "source": [
        "#cor_mapping = {\n",
        "   # 0: 'Nao declarada',\n",
        "  #  1: 'Branca',\n",
        "  #  2: 'Preta',\n",
        " #   3: 'Parda',\n",
        "  #  4: 'Amarela',\n",
        " #   5: 'Indigena'\n",
        "#}\n",
        "#df['TP_COR_RACA'] = df['TP_COR_RACA'].map(cor_mapping)"
      ]
    },
    {
      "cell_type": "code",
      "execution_count": null,
      "metadata": {
        "id": "Dswm616-MZaD"
      },
      "outputs": [],
      "source": [
        "df['TP_COR_RACA'].isna().sum()"
      ]
    },
    {
      "cell_type": "code",
      "execution_count": null,
      "metadata": {
        "id": "I0J7nBzVNCTj"
      },
      "outputs": [],
      "source": [
        "df_sem_nulos = df.dropna(subset=['TP_COR_RACA'])\n"
      ]
    },
    {
      "cell_type": "code",
      "execution_count": null,
      "metadata": {
        "id": "5CoBPTAHNZqd"
      },
      "outputs": [],
      "source": [
        "df.dropna(subset=['TP_COR_RACA'], inplace=True)"
      ]
    },
    {
      "cell_type": "code",
      "execution_count": null,
      "metadata": {
        "id": "nNdSDUTtNfUN"
      },
      "outputs": [],
      "source": [
        "df.isna().sum()"
      ]
    },
    {
      "cell_type": "code",
      "execution_count": null,
      "metadata": {
        "id": "bDHEhyqyNl7L"
      },
      "outputs": [],
      "source": [
        "df.columns"
      ]
    },
    {
      "cell_type": "markdown",
      "metadata": {
        "id": "Dl1gcEtsSRrM"
      },
      "source": [
        "escolhendo o treino e o teste"
      ]
    },
    {
      "cell_type": "code",
      "execution_count": null,
      "metadata": {
        "id": "KyKJEg04OmfQ"
      },
      "outputs": [],
      "source": [
        "from sklearn.model_selection import train_test_split\n",
        "\n",
        "X = df[['NU_ANO', 'NU_IDADE', 'TP_COR_RACA', 'IN_NECESSIDADE_ESPECIAL', 'IN_AUTISMO']]\n",
        "y = df['TP_DEPENDENCIA']\n",
        "\n",
        "X_train, X_test, y_train, y_test = train_test_split(X, y, test_size=0.2, random_state=1)\n",
        "\n",
        "print(f\"Tamanho do conjunto de treino: {X_train.shape[0]} amostras\")\n",
        "print(f\"Tamanho do conjunto de teste: {X_test.shape[0]} amostras\")"
      ]
    },
    {
      "cell_type": "code",
      "execution_count": null,
      "metadata": {
        "id": "yp9_BMSsPEX8"
      },
      "outputs": [],
      "source": [
        "\n",
        "from sklearn.naive_bayes import GaussianNB\n",
        "model = GaussianNB()\n",
        "\n",
        "model.fit(X_train, y_train)\n",
        "\n",
        "\n",
        "y_model = model.predict(X_test)"
      ]
    },
    {
      "cell_type": "code",
      "execution_count": null,
      "metadata": {
        "id": "6iIEnwBHPLwj"
      },
      "outputs": [],
      "source": [
        "from sklearn.metrics import accuracy_score\n",
        "\n",
        "accuracy = accuracy_score(y_test, y_model)\n",
        "\n",
        "print(f\"Precisão do modelo: {accuracy:.2f}\")"
      ]
    },
    {
      "cell_type": "code",
      "execution_count": null,
      "metadata": {
        "id": "7aOuuDElQuFa"
      },
      "outputs": [],
      "source": [
        "from sklearn.metrics import confusion_matrix\n",
        "cm = confusion_matrix(y_test, y_model)\n",
        "plt.figure(figsize=(8, 6))\n",
        "sns.heatmap(cm, annot=True, cmap='Blues', fmt='g', cbar=False)\n",
        "plt.xlabel('Predicted')\n",
        "plt.ylabel('True')\n",
        "plt.title('Confusion Matrix')\n",
        "plt.show()"
      ]
    },
    {
      "cell_type": "code",
      "execution_count": null,
      "metadata": {
        "id": "tYDq_0yIRKf_"
      },
      "outputs": [],
      "source": [
        "from sklearn.linear_model import LogisticRegression\n",
        "from sklearn.tree import DecisionTreeClassifier\n",
        "from sklearn.ensemble import RandomForestClassifier, GradientBoostingClassifier\n",
        "\n",
        "# Instanciar os modelos\n",
        "X_train, X_val, y_train, y_val = train_test_split(X_train, y_train, test_size=0.25, random_state=1)\n",
        "\n",
        "# Instanciar os modelos\n",
        "model1 = LogisticRegression()\n",
        "model2 = DecisionTreeClassifier()\n",
        "model3 = RandomForestClassifier()\n",
        "model4 = GradientBoostingClassifier()\n",
        "\n",
        "# Treinar os modelos nos dados de treinamento\n",
        "model1.fit(X_train, y_train)\n",
        "model2.fit(X_train, y_train)\n",
        "model3.fit(X_train, y_train)\n",
        "model4.fit(X_train, y_train)\n",
        "\n",
        "# Fazer previsões nos dados de validação\n",
        "y_pred1 = model1.predict(X_val)\n",
        "y_pred2 = model2.predict(X_val)\n",
        "y_pred3 = model3.predict(X_val)\n",
        "y_pred4 = model4.predict(X_val)"
      ]
    },
    {
      "cell_type": "code",
      "execution_count": null,
      "metadata": {
        "colab": {
          "base_uri": "https://localhost:8080/"
        },
        "id": "dcVuDABbSoZq",
        "outputId": "b18efff2-4302-4a76-eac4-a4dcfe403106"
      },
      "outputs": [
        {
          "name": "stdout",
          "output_type": "stream",
          "text": [
            "\u001b[2K     \u001b[90m━━━━━━━━━━━━━━━━━━━━━━━━━━━━━━━━━━━━━━━━\u001b[0m \u001b[32m25.8/25.8 MB\u001b[0m \u001b[31m40.2 MB/s\u001b[0m eta \u001b[36m0:00:00\u001b[0m\n",
            "\u001b[2K     \u001b[90m━━━━━━━━━━━━━━━━━━━━━━━━━━━━━━━━━━━━━━━━\u001b[0m \u001b[32m233.0/233.0 kB\u001b[0m \u001b[31m22.3 MB/s\u001b[0m eta \u001b[36m0:00:00\u001b[0m\n",
            "\u001b[2K     \u001b[90m━━━━━━━━━━━━━━━━━━━━━━━━━━━━━━━━━━━━━━━━\u001b[0m \u001b[32m147.8/147.8 kB\u001b[0m \u001b[31m13.9 MB/s\u001b[0m eta \u001b[36m0:00:00\u001b[0m\n",
            "\u001b[2K     \u001b[90m━━━━━━━━━━━━━━━━━━━━━━━━━━━━━━━━━━━━━━━━\u001b[0m \u001b[32m207.3/207.3 kB\u001b[0m \u001b[31m23.0 MB/s\u001b[0m eta \u001b[36m0:00:00\u001b[0m\n",
            "\u001b[2K     \u001b[90m━━━━━━━━━━━━━━━━━━━━━━━━━━━━━━━━━━━━━━━━\u001b[0m \u001b[32m128.2/128.2 kB\u001b[0m \u001b[31m15.3 MB/s\u001b[0m eta \u001b[36m0:00:00\u001b[0m\n",
            "\u001b[2K     \u001b[90m━━━━━━━━━━━━━━━━━━━━━━━━━━━━━━━━━━━━━━━━\u001b[0m \u001b[32m59.9/59.9 kB\u001b[0m \u001b[31m8.9 MB/s\u001b[0m eta \u001b[36m0:00:00\u001b[0m\n",
            "\u001b[2K     \u001b[90m━━━━━━━━━━━━━━━━━━━━━━━━━━━━━━━━━━━━━━━━\u001b[0m \u001b[32m107.0/107.0 kB\u001b[0m \u001b[31m12.1 MB/s\u001b[0m eta \u001b[36m0:00:00\u001b[0m\n",
            "\u001b[2K     \u001b[90m━━━━━━━━━━━━━━━━━━━━━━━━━━━━━━━━━━━━━━━━\u001b[0m \u001b[32m84.4/84.4 kB\u001b[0m \u001b[31m12.3 MB/s\u001b[0m eta \u001b[36m0:00:00\u001b[0m\n",
            "\u001b[2K     \u001b[90m━━━━━━━━━━━━━━━━━━━━━━━━━━━━━━━━━━━━━━━━\u001b[0m \u001b[32m78.6/78.6 kB\u001b[0m \u001b[31m10.2 MB/s\u001b[0m eta \u001b[36m0:00:00\u001b[0m\n",
            "\u001b[2K     \u001b[90m━━━━━━━━━━━━━━━━━━━━━━━━━━━━━━━━━━━━━━━━\u001b[0m \u001b[32m62.7/62.7 kB\u001b[0m \u001b[31m9.4 MB/s\u001b[0m eta \u001b[36m0:00:00\u001b[0m\n",
            "\u001b[2K     \u001b[90m━━━━━━━━━━━━━━━━━━━━━━━━━━━━━━━━━━━━━━━━\u001b[0m \u001b[32m202.9/202.9 kB\u001b[0m \u001b[31m24.1 MB/s\u001b[0m eta \u001b[36m0:00:00\u001b[0m\n",
            "\u001b[2K     \u001b[90m━━━━━━━━━━━━━━━━━━━━━━━━━━━━━━━━━━━━━━━━\u001b[0m \u001b[32m52.8/52.8 kB\u001b[0m \u001b[31m7.5 MB/s\u001b[0m eta \u001b[36m0:00:00\u001b[0m\n",
            "\u001b[2K     \u001b[90m━━━━━━━━━━━━━━━━━━━━━━━━━━━━━━━━━━━━━━━━\u001b[0m \u001b[32m130.5/130.5 kB\u001b[0m \u001b[31m16.6 MB/s\u001b[0m eta \u001b[36m0:00:00\u001b[0m\n",
            "\u001b[?25h"
          ]
        }
      ],
      "source": [
        "!pip install mlflow --q\n",
        "!pip install pyngrok --q"
      ]
    },
    {
      "cell_type": "code",
      "execution_count": null,
      "metadata": {
        "id": "e-MmxmI4_A6a"
      },
      "outputs": [],
      "source": [
        "import mlflow\n",
        "import subprocess\n",
        "from pyngrok import ngrok, conf\n",
        "import getpass"
      ]
    },
    {
      "cell_type": "code",
      "execution_count": null,
      "metadata": {
        "id": "Q4DIofttTtQX"
      },
      "outputs": [],
      "source": [
        "import mlflow.sklearn\n",
        "\n",
        "from sklearn.linear_model import LogisticRegression\n",
        "from sklearn.tree import DecisionTreeClassifier\n",
        "from sklearn.ensemble import RandomForestClassifier, GradientBoostingClassifier\n",
        "from sklearn.model_selection import train_test_split"
      ]
    },
    {
      "cell_type": "code",
      "execution_count": null,
      "metadata": {
        "colab": {
          "base_uri": "https://localhost:8080/"
        },
        "id": "r7T9yPUtTzmD",
        "outputId": "5e0d9641-2e49-439b-83e4-61bb1e91a98d"
      },
      "outputs": [
        {
          "name": "stderr",
          "output_type": "stream",
          "text": [
            "2024/07/01 02:20:52 INFO mlflow.tracking.fluent: Experiment with name 'Projeto Ciência de Dados' does not exist. Creating a new experiment.\n"
          ]
        },
        {
          "data": {
            "text/plain": [
              "<Experiment: artifact_location='file:///content/mlruns/695997329233354265', creation_time=1719800452315, experiment_id='695997329233354265', last_update_time=1719800452315, lifecycle_stage='active', name='Projeto Ciência de Dados', tags={}>"
            ]
          },
          "execution_count": 44,
          "metadata": {},
          "output_type": "execute_result"
        }
      ],
      "source": [
        "mlflow.set_experiment(\"Projeto Ciência de Dados\")"
      ]
    },
    {
      "cell_type": "code",
      "execution_count": null,
      "metadata": {
        "colab": {
          "base_uri": "https://localhost:8080/"
        },
        "id": "aA54b-UwAJze",
        "outputId": "6f4592b9-be39-4d0d-b340-355d7e05b6b7"
      },
      "outputs": [
        {
          "data": {
            "text/plain": [
              "<Popen: returncode: None args: ['mlflow', 'ui']>"
            ]
          },
          "execution_count": 45,
          "metadata": {},
          "output_type": "execute_result"
        }
      ],
      "source": [
        "subprocess.Popen([\"mlflow\", \"ui\"])"
      ]
    },
    {
      "cell_type": "code",
      "execution_count": null,
      "metadata": {
        "colab": {
          "base_uri": "https://localhost:8080/"
        },
        "id": "ykQryfkzAMSl",
        "outputId": "d19f780a-0b08-4885-99da-3421375eacac"
      },
      "outputs": [
        {
          "name": "stdout",
          "output_type": "stream",
          "text": [
            "Enter your authtoken, which can be copied from https://dashboard.ngrok.com/auth\n",
            "··········\n",
            " * ngrok tunnel \"https://2fea-34-16-183-121.ngrok-free.app\" -> \"http://127.0.0.1:5000\"\n"
          ]
        }
      ],
      "source": [
        "print(\"Enter your authtoken, which can be copied from https://dashboard.ngrok.com/auth\")\n",
        "conf.get_default().auth_token = getpass.getpass()\n",
        "port=5000\n",
        "public_url = ngrok.connect(port).public_url\n",
        "print(f' * ngrok tunnel \\\"{public_url}\\\" -> \\\"http://127.0.0.1:{port}\\\"')"
      ]
    },
    {
      "cell_type": "code",
      "execution_count": null,
      "metadata": {
        "colab": {
          "base_uri": "https://localhost:8080/",
          "height": 217
        },
        "id": "vOxnTwLwT42v",
        "outputId": "ae309fbe-4170-4fc6-b787-f43f61eea122"
      },
      "outputs": [
        {
          "ename": "NameError",
          "evalue": "name 'X' is not defined",
          "output_type": "error",
          "traceback": [
            "\u001b[0;31m---------------------------------------------------------------------------\u001b[0m",
            "\u001b[0;31mNameError\u001b[0m                                 Traceback (most recent call last)",
            "\u001b[0;32m<ipython-input-47-17c84d7fc79a>\u001b[0m in \u001b[0;36m<cell line: 1>\u001b[0;34m()\u001b[0m\n\u001b[0;32m----> 1\u001b[0;31m \u001b[0mX_train\u001b[0m\u001b[0;34m,\u001b[0m \u001b[0mX_test\u001b[0m\u001b[0;34m,\u001b[0m \u001b[0my_train\u001b[0m\u001b[0;34m,\u001b[0m \u001b[0my_test\u001b[0m \u001b[0;34m=\u001b[0m \u001b[0mtrain_test_split\u001b[0m\u001b[0;34m(\u001b[0m\u001b[0mX\u001b[0m\u001b[0;34m,\u001b[0m \u001b[0my\u001b[0m\u001b[0;34m,\u001b[0m \u001b[0mtest_size\u001b[0m\u001b[0;34m=\u001b[0m\u001b[0;36m0.2\u001b[0m\u001b[0;34m,\u001b[0m \u001b[0mrandom_state\u001b[0m\u001b[0;34m=\u001b[0m\u001b[0;36m1\u001b[0m\u001b[0;34m)\u001b[0m\u001b[0;34m\u001b[0m\u001b[0;34m\u001b[0m\u001b[0m\n\u001b[0m\u001b[1;32m      2\u001b[0m \u001b[0mX_train\u001b[0m\u001b[0;34m,\u001b[0m \u001b[0mX_val\u001b[0m\u001b[0;34m,\u001b[0m \u001b[0my_train\u001b[0m\u001b[0;34m,\u001b[0m \u001b[0my_val\u001b[0m \u001b[0;34m=\u001b[0m \u001b[0mtrain_test_split\u001b[0m\u001b[0;34m(\u001b[0m\u001b[0mX_train\u001b[0m\u001b[0;34m,\u001b[0m \u001b[0my_train\u001b[0m\u001b[0;34m,\u001b[0m \u001b[0mtest_size\u001b[0m\u001b[0;34m=\u001b[0m\u001b[0;36m0.25\u001b[0m\u001b[0;34m,\u001b[0m \u001b[0mrandom_state\u001b[0m\u001b[0;34m=\u001b[0m\u001b[0;36m1\u001b[0m\u001b[0;34m)\u001b[0m\u001b[0;34m\u001b[0m\u001b[0;34m\u001b[0m\u001b[0m\n\u001b[1;32m      3\u001b[0m \u001b[0;34m\u001b[0m\u001b[0m\n\u001b[1;32m      4\u001b[0m \u001b[0;31m# Instanciar os modelos\u001b[0m\u001b[0;34m\u001b[0m\u001b[0;34m\u001b[0m\u001b[0m\n\u001b[1;32m      5\u001b[0m \u001b[0mmodel1\u001b[0m \u001b[0;34m=\u001b[0m \u001b[0mLogisticRegression\u001b[0m\u001b[0;34m(\u001b[0m\u001b[0;34m)\u001b[0m\u001b[0;34m\u001b[0m\u001b[0;34m\u001b[0m\u001b[0m\n",
            "\u001b[0;31mNameError\u001b[0m: name 'X' is not defined"
          ]
        }
      ],
      "source": [
        "X_train, X_test, y_train, y_test = train_test_split(X, y, test_size=0.2, random_state=1)\n",
        "X_train, X_val, y_train, y_val = train_test_split(X_train, y_train, test_size=0.25, random_state=1)\n",
        "\n",
        "# Instanciar os modelos\n",
        "model1 = LogisticRegression()\n",
        "model2 = DecisionTreeClassifier()\n",
        "model3 = RandomForestClassifier()\n",
        "model4 = GradientBoostingClassifier()\n",
        "\n",
        "# Dicionário de hiperparâmetros (opcional)\n",
        "params = {\n",
        "    'random_state': 42,\n",
        "    'n_estimators': 100\n",
        "}\n",
        "\n",
        "# Iniciar um novo run no MLflow para cada modelo\n",
        "with mlflow.start_run():\n",
        "\n",
        "    # Log dos hiperparâmetros\n",
        "    mlflow.log_params(params)\n",
        "\n",
        "    # Treinamento dos modelos\n",
        "    model1.fit(X_train, y_train)\n",
        "    model2.fit(X_train, y_train)\n",
        "    model3.fit(X_train, y_train)\n",
        "    model4.fit(X_train, y_train)\n",
        "\n",
        "    # Fazer previsões nos dados de validação\n",
        "    y_pred1 = model1.predict(X_val)\n",
        "    y_pred2 = model2.predict(X_val)\n",
        "    y_pred3 = model3.predict(X_val)\n",
        "    y_pred4 = model4.predict(X_val)\n",
        "\n",
        "    # Calcular e log da precisão dos modelos\n",
        "    accuracy1 = accuracy_score(y_val, y_pred1)\n",
        "    accuracy2 = accuracy_score(y_val, y_pred2)\n",
        "    accuracy3 = accuracy_score(y_val, y_pred3)\n",
        "    accuracy4 = accuracy_score(y_val, y_pred4)\n",
        "\n",
        "    mlflow.log_metrics({\n",
        "        'accuracy_logistic_regression': accuracy1,\n",
        "        'accuracy_decision_tree': accuracy2,\n",
        "        'accuracy_random_forest': accuracy3,\n",
        "        'accuracy_gradient_boosting': accuracy4\n",
        "    })\n",
        "\n",
        "    # Salvar os modelos treinados como artefatos\n",
        "    mlflow.sklearn.log_model(model1, \"LogisticRegression_model\")\n",
        "    mlflow.sklearn.log_model(model2, \"DecisionTree_model\")\n",
        "    mlflow.sklearn.log_model(model3, \"RandomForest_model\")\n",
        "    mlflow.sklearn.log_model(model4, \"GradientBoosting_model\")"
      ]
    }
  ],
  "metadata": {
    "accelerator": "GPU",
    "colab": {
      "collapsed_sections": [
        "wB1PgYKgcwiV",
        "fnevtohfW8Vp",
        "_LWdjiap1ZQV",
        "IBaV0GT5gxJ4",
        "UiBWiouQhT62",
        "RYoUShnVGoa1",
        "wD_3BwMdFWx5"
      ],
      "gpuType": "T4",
      "provenance": []
    },
    "kernelspec": {
      "display_name": "Python 3",
      "name": "python3"
    },
    "language_info": {
      "name": "python"
    }
  },
  "nbformat": 4,
  "nbformat_minor": 0
}